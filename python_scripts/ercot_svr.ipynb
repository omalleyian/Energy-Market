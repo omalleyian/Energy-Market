{
 "cells": [
  {
   "cell_type": "code",
   "execution_count": 2,
   "metadata": {
    "collapsed": true
   },
   "outputs": [],
   "source": [
    "import os, sys\n",
    "import numpy as np\n",
    "import pandas as pd\n",
    "import matplotlib.pyplot as plt\n",
    "from sklearn import datasets, linear_model\n",
    "sys.path.append(\"/home/omalleyian/Documents/energy_market_project/scripts\")\n",
    "from ercot_data_interface import ercot_data_interface\n",
    "from sklearn.svm import SVR"
   ]
  },
  {
   "cell_type": "code",
   "execution_count": 3,
   "metadata": {},
   "outputs": [],
   "source": [
    "#x is your training series as a matrix\n",
    "#t is your testing series as a matrix\n",
    "ercot = ercot_data_interface(password=\"Is79t5Is79t5\")\n",
    "nodes_all = ercot.all_nodes\n",
    "df_train = ercot.query_prices(nodes_all[1], \"2011-01-01\",\"2012-05-23\")\n",
    "df_test = ercot.query_prices(nodes_all[1], \"2012-05-23\",\"2013-05-23\")\n",
    "x = df_train.as_matrix().squeeze()\n",
    "t = df_test.as_matrix().squeeze()"
   ]
  },
  {
   "cell_type": "code",
   "execution_count": null,
   "metadata": {},
   "outputs": [],
   "source": [
    "#Training\n",
    "X = []\n",
    "y = []\n",
    "for i in np.arange(25, x.shape[0]):\n",
    "    lags = []\n",
    "    for k in np.arange(1, 25):\n",
    "        lags.append(x[i-k])\n",
    "    X.append(lags)\n",
    "    y.append(x[i])\n",
    "X = np.squeeze(np.array(X))\n",
    "y = np.array(y)\n",
    "\n",
    "#Change parameters to SVR\n",
    "svr = SVR(kernel='rbf', C=1000, gamma=0.00001, epsilon=.01)\n",
    "svr.fit(X, y)\n",
    "\n",
    "#Testing\n",
    "X = []\n",
    "y = []\n",
    "for i in np.arange(25, t.shape[0]):\n",
    "    lags = []\n",
    "    for k in np.arange(1, 25):\n",
    "        lags.append(t[i-k])\n",
    "    X.append(lags)\n",
    "    y.append(t[i])\n",
    "X = np.squeeze(np.array(X))\n",
    "y = np.array(y)\n",
    "\n",
    "y_pred = svr.predict(X)\n",
    "\n",
    "print np.mean(np.abs(y_pred-y))\n",
    "plt.plot(y_pred[:], label='predicted')\n",
    "plt.plot(y[:], label='actual')\n",
    "plt.legend()\n",
    "plt.show()"
   ]
  }
 ],
 "metadata": {
  "kernelspec": {
   "display_name": "Python 2",
   "language": "python",
   "name": "python2"
  },
  "language_info": {
   "codemirror_mode": {
    "name": "ipython",
    "version": 2
   },
   "file_extension": ".py",
   "mimetype": "text/x-python",
   "name": "python",
   "nbconvert_exporter": "python",
   "pygments_lexer": "ipython2",
   "version": "2.7.13"
  }
 },
 "nbformat": 4,
 "nbformat_minor": 2
}
