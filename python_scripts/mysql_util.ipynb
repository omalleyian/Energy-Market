{
 "cells": [
  {
   "cell_type": "code",
   "execution_count": null,
   "metadata": {
    "collapsed": true
   },
   "outputs": [],
   "source": [
    "#-------------------------\n",
    "# Libs\n",
    "#-------------------------\n",
    " \n",
    "# External libs\n",
    "# %matplotlib          Fuck this line right here.\n",
    "import pymysql.cursors\n",
    "import os, sys\n",
    "import numpy as np\n",
    "import pandas as pd\n",
    "import matplotlib.pyplot as plt\n",
    "from sklearn import datasets, linear_model"
   ]
  },
  {
   "cell_type": "code",
   "execution_count": null,
   "metadata": {
    "collapsed": true
   },
   "outputs": [],
   "source": [
    "#-------------------------\n",
    "# SQL environments\n",
    "#-------------------------\n",
    " \n",
    "HOST = \"localhost\"\n",
    "USER = \"root\" \n",
    "PASSWORD = \"Is79t5Is79t5\"\n",
    "DB = \"ercot_data\"\n",
    "\n",
    "#-------------------------\n",
    "# Functions\n",
    "#-------------------------\n",
    "\"\"\"\n",
    "Make a connection to MySQL\n",
    "Execute the MySQL query and return the resutls\n",
    "\"\"\"\n",
    "\n",
    "def execute_dict_query(query):\n",
    "    connection = pymysql.connect(host=HOST, \n",
    "                                 user=USER, \n",
    "                                 password=PASSWORD, \n",
    "                                 db=DB, \n",
    "                                 port=3306,\n",
    "                                 cursorclass=pymysql.cursors.DictCursor)\n",
    "    \n",
    "    try:\n",
    "        with connection.cursor() as cursor:\n",
    "            # Create a new record\n",
    "            cursor.execute(query)\n",
    "            result = cursor.fetchall()\n",
    "            return result\n",
    "    finally:\n",
    "        connection.close()\n",
    "\n",
    " \n"
   ]
  },
  {
   "cell_type": "code",
   "execution_count": null,
   "metadata": {
    "collapsed": true
   },
   "outputs": [],
   "source": [
    "# Query data sorted by date and hour. SLOW!\n",
    "result_dict = execute_dict_query('select * from DAM_LMP0  \\\n",
    "                                where delivery_date < \"2012-12-31\" \\\n",
    "                                and delivery_date > \"2011-01-01\" \\\n",
    "                                order by delivery_date, hour_ending')"
   ]
  },
  {
   "cell_type": "code",
   "execution_count": null,
   "metadata": {},
   "outputs": [],
   "source": [
    "#Extract some data\n",
    "prices1 = [i['n0001VICTOR'] for i in result_dict]\n",
    "prices2 = [i['n0001'] for i in result_dict]\n",
    "hours = [i['hour_ending'].total_seconds() for i in result_dict]\n",
    "dates = [i['delivery_date'] for i in result_dict]\n",
    "plt.plot(prices1)\n",
    "plt.plot(prices2)\n",
    "# plt.show()"
   ]
  },
  {
   "cell_type": "code",
   "execution_count": null,
   "metadata": {},
   "outputs": [],
   "source": [
    "# Percent Change\n",
    "k = 24\n",
    "p_t = np.array(prices1[k:])\n",
    "p_tk = np.array(prices1[:-k])\n",
    "v = np.log10(p_t) - np.log10(p_tk)\n",
    "plt.plot(v)\n",
    "# plt.show()\n",
    "\n",
    "MAPE = np.mean(np.square(p_t-p_tk)/p_t)\n",
    "print(MAPE)"
   ]
  },
  {
   "cell_type": "code",
   "execution_count": null,
   "metadata": {},
   "outputs": [],
   "source": [
    "# Basic data plot\n",
    "price1 = [float(i['AMNCOWD_8']) for i in result_dict]\n",
    "price2 = [float(i['AZLES_K']) for i in result_dict]\n",
    "price3 = [float(i['n0001']) for i in result_dict]\n",
    "\n",
    "plt.plot(price1, label='1')\n",
    "plt.plot(price2, label='2')\n",
    "plt.plot(price3, label='2')\n",
    "plt.legend()\n",
    "# plt.show()\n"
   ]
  },
  {
   "cell_type": "code",
   "execution_count": null,
   "metadata": {},
   "outputs": [],
   "source": [
    "# Histogram\n",
    "plt.hist(price1, 500)\n",
    "plt.show()"
   ]
  },
  {
   "cell_type": "code",
   "execution_count": null,
   "metadata": {},
   "outputs": [],
   "source": [
    "# Autocorrelation\n",
    "plt.acorr(price1, maxlags=72)\n",
    "plt.show()"
   ]
  },
  {
   "cell_type": "code",
   "execution_count": null,
   "metadata": {},
   "outputs": [],
   "source": [
    "np.mean(price1)"
   ]
  },
  {
   "cell_type": "code",
   "execution_count": null,
   "metadata": {},
   "outputs": [],
   "source": [
    "#extend this to get prices at different lags e.g. k-1, k-2, k-3\n",
    "max_lag = 168\n",
    "p_t = prices1[max_lag:]\n",
    "X = []\n",
    "for k in np.arange(0, max_lag, 24):\n",
    "    t_k = np.array(prices1[(max_lag-k):-k], dtype='float')\n",
    "    X.append(t_k)\n",
    "X = np.swapaxes(np.array(X[1:]), 0, 1)\n",
    "Y = [float(i) for i in p_t]\n",
    "# use sklearn.LinearRegression to fit (X, Y)\n",
    "\n",
    "regr = linear_model.LinearRegression()\n",
    "regr.fit(X,Y)\n",
    "\n",
    "print regr.predict(X)\n",
    "plt.plot(X)\n",
    "# plt.show()\n"
   ]
  },
  {
   "cell_type": "code",
   "execution_count": null,
   "metadata": {},
   "outputs": [],
   "source": [
    "# Mean Model\n",
    "# Given list X and time t\n",
    "# Return mean of X from 0 to t\n",
    "\n",
    "def mean_model(X, t):\n",
    "    return np.mean(X[:t])\n",
    "\n",
    "print mean_model(prices1, 24)"
   ]
  },
  {
   "cell_type": "code",
   "execution_count": null,
   "metadata": {},
   "outputs": [],
   "source": [
    "# Random Walk Model\n",
    "# Given list X and time t\n",
    "# Return element of X at time t-1\n",
    "\n",
    "def random_walk(X, t):\n",
    "    return X[t-1]\n",
    "\n",
    "print random_walk(prices1, 24)"
   ]
  },
  {
   "cell_type": "code",
   "execution_count": null,
   "metadata": {},
   "outputs": [],
   "source": [
    "# Moving Average Model\n",
    "# Given a list X, time t, and m number of observations\n",
    "# Return the value of Y at time t of the previous m elements in X.\n",
    "\n",
    "def moving_average(X, t, m):\n",
    "    s = sum(X[(t-m):t])\n",
    "    avg = s/m\n",
    "    return avg\n",
    "\n",
    "print moving_average(prices1, 24, 24)\n",
    "    \n",
    "    "
   ]
  },
  {
   "cell_type": "code",
   "execution_count": null,
   "metadata": {
    "collapsed": true
   },
   "outputs": [],
   "source": []
  }
 ],
 "metadata": {
  "kernelspec": {
   "display_name": "Python 2",
   "language": "python",
   "name": "python2"
  },
  "language_info": {
   "codemirror_mode": {
    "name": "ipython",
    "version": 2
   },
   "file_extension": ".py",
   "mimetype": "text/x-python",
   "name": "python",
   "nbconvert_exporter": "python",
   "pygments_lexer": "ipython2",
   "version": "2.7.13"
  }
 },
 "nbformat": 4,
 "nbformat_minor": 2
}
