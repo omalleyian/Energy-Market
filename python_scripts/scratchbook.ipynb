{
 "cells": [
  {
   "cell_type": "code",
   "execution_count": 133,
   "metadata": {
    "collapsed": true
   },
   "outputs": [],
   "source": [
    "#-------------------------\n",
    "# Libs\n",
    "#-------------------------\n",
    " \n",
    "# External libs\n",
    "# %matplotlib qt         Fuck this line right here.\n",
    "import pymysql.cursors\n",
    "import os, sys\n",
    "import numpy as np\n",
    "import pandas as pd\n",
    "import matplotlib.pyplot as plt\n",
    "from sklearn import datasets, linear_model\n",
    "from sklearn.neural_network import MLPRegressor as mlp\n",
    "sys.path.append(\"/home/omalleyian/Documents/energy_market_project/scripts\")\n",
    "from ercot_data_interface import ercot_data_interface\n",
    "from ARIMA import ARIMA\n",
    "import csv"
   ]
  },
  {
   "cell_type": "code",
   "execution_count": null,
   "metadata": {
    "collapsed": true
   },
   "outputs": [],
   "source": [
    "#-------------------------\n",
    "# SQL environments\n",
    "#-------------------------\n",
    " \n",
    "HOST = \"localhost\"\n",
    "USER = \"root\" \n",
    "PASSWORD = \"Is79t5Is79t5\"\n",
    "DB = \"ercot_data\"\n",
    "\n",
    "#-------------------------\n",
    "# Functions\n",
    "#-------------------------\n",
    "\"\"\"\n",
    "Make a connection to MySQL\n",
    "Execute the MySQL query and return the resutls\n",
    "\"\"\"\n",
    "\n",
    "def execute_dict_query(query):\n",
    "    connection = pymysql.connect(host=HOST, \n",
    "                                 user=USER, \n",
    "                                 password=PASSWORD, \n",
    "                                 db=DB, \n",
    "                                 port=3306,\n",
    "                                 cursorclass=pymysql.cursors.DictCursor)\n",
    "    \n",
    "    try:\n",
    "        with connection.cursor() as cursor:\n",
    "            # Create a new record\n",
    "            cursor.execute(query)\n",
    "            result = cursor.fetchall()\n",
    "            return result\n",
    "    finally:\n",
    "        connection.close()\n"
   ]
  },
  {
   "cell_type": "code",
   "execution_count": 2,
   "metadata": {
    "collapsed": true
   },
   "outputs": [],
   "source": [
    "def mape(actual, forcast):\n",
    "    x = (np.asarray(actual)).flatten()\n",
    "    y = (np.asarray(forcast)).flatten()\n",
    "    return np.mean(np.square(np.abs((x - y)) / x))\n",
    "\n",
    "def mae(actual, forcast):\n",
    "    x = (np.asarray(actual)).flatten()\n",
    "    y = (np.asarray(forcast)).flatten()\n",
    "    return np.mean(np.abs((x - y)))\n",
    "\n",
    "def mase(actual, forcast):\n",
    "    x = (np.asarray(actual)).flatten()\n",
    "    y = (np.asarray(forcast)).flatten()\n",
    "    return np.mean(np.abs(x - y) / np.mean(np.abs(x[1:]-x[:-1])))\n",
    "    \n",
    "def hit_rate(actual, forcast):\n",
    "    x = (np.asarray(actual)).flatten()\n",
    "    y = (np.asarray(forcast)).flatten()\n",
    "    f_t = (x[1:] - x[:-1]) * (y[1:] - y[:-1])\n",
    "    # k is the subset of f_t where k[i] = f_t[i] iff f_t[i] > 0\n",
    "    k = [i for i in f_t if i > 0]\n",
    "    return np.mean(np.abs(k))\n",
    "\n",
    "def hit_rate2(actual, forcast):\n",
    "    x = (np.asarray(actual)).flatten()\n",
    "    y = (np.asarray(forcast)).flatten()\n",
    "    f_t = (x[1:] - x[:-1]) * (y[1:] - y[:-1])  \n",
    "    # k is the subset of y where k[i] = y[i] iff f_t[i] > 0\n",
    "    k = [y[i+1] for i in range(f_t.shape[0]) if f_t[i] > 0]\n",
    "    return np.mean(np.abs(k))"
   ]
  },
  {
   "cell_type": "code",
   "execution_count": null,
   "metadata": {
    "collapsed": true
   },
   "outputs": [],
   "source": [
    "# Query data sorted by date and hour. SLOW!\n",
    "result_dict = execute_dict_query('select * from DAM_LMP0  \\\n",
    "                                where delivery_date < \"2016-12-31\" \\\n",
    "                                and delivery_date > \"2011-01-01\" \\\n",
    "                                order by delivery_date, hour_ending')"
   ]
  },
  {
   "cell_type": "code",
   "execution_count": null,
   "metadata": {
    "collapsed": true
   },
   "outputs": [],
   "source": [
    "#Extract some data\n",
    "prices1 = [i['n0001VICTOR'] for i in result_dict]\n",
    "prices2 = [i['n0001'] for i in result_dict]\n",
    "hours = [i['hour_ending'].total_seconds() for i in result_dict]\n",
    "dates = [i['delivery_date'] for i in result_dict]\n",
    "plt.plot(prices1)\n",
    "plt.plot(prices2)\n",
    "# plt.show()"
   ]
  },
  {
   "cell_type": "code",
   "execution_count": null,
   "metadata": {
    "collapsed": true
   },
   "outputs": [],
   "source": [
    "# Percent Change\n",
    "k = 24\n",
    "p_t = np.array(prices1[k:])\n",
    "p_tk = np.array(prices1[:-k])\n",
    "v = np.log10(p_t) - np.log10(p_tk)\n",
    "plt.plot(v)\n",
    "# plt.show()\n",
    "\n",
    "# MAPE = mean( (actual - forcast) / actual)\n",
    "\n",
    "MAPE = np.mean(np.square(p_t-p_tk)/p_t)"
   ]
  },
  {
   "cell_type": "code",
   "execution_count": null,
   "metadata": {
    "collapsed": true
   },
   "outputs": [],
   "source": [
    "# Basic data plot\n",
    "price1 = [float(i['AMNCOWD_8']) for i in result_dict]\n",
    "price2 = [float(i['AZLES_K']) for i in result_dict]\n",
    "price3 = [float(i['n0001']) for i in result_dict]\n",
    "\n",
    "plt.plot(price1, label='1')\n",
    "plt.plot(price2, label='2')\n",
    "plt.plot(price3, label='2')\n",
    "plt.legend()\n",
    "# plt.show()\n"
   ]
  },
  {
   "cell_type": "code",
   "execution_count": null,
   "metadata": {
    "collapsed": true
   },
   "outputs": [],
   "source": [
    "# Histogram\n",
    "plt.hist(price1, 500)\n",
    "plt.show()"
   ]
  },
  {
   "cell_type": "code",
   "execution_count": null,
   "metadata": {
    "collapsed": true
   },
   "outputs": [],
   "source": [
    "# Autocorrelation\n",
    "plt.acorr(price1, maxlags=72)\n",
    "plt.show()"
   ]
  },
  {
   "cell_type": "code",
   "execution_count": null,
   "metadata": {
    "collapsed": true
   },
   "outputs": [],
   "source": [
    "np.mean(price1)"
   ]
  },
  {
   "cell_type": "code",
   "execution_count": null,
   "metadata": {
    "collapsed": true
   },
   "outputs": [],
   "source": [
    "#extend this to get prices at different lags e.g. k-1, k-2, k-3\n",
    "max_lag = 168\n",
    "p_t = prices1[max_lag:]\n",
    "X = []\n",
    "for k in np.arange(0, max_lag, 24):\n",
    "    t_k = np.array(prices1[(max_lag-k):-k], dtype='float')\n",
    "    X.append(t_k)\n",
    "X = np.swapaxes(np.array(X[1:]), 0, 1)\n",
    "Y = [float(i) for i in p_t]\n",
    "# use sklearn.LinearRegression to fit (X, Y)\n",
    "\n",
    "regr = linear_model.LinearRegression()\n",
    "regr.fit(X,Y)\n",
    "\n",
    "print regr.predict(X)\n",
    "plt.plot(X)\n",
    "# plt.show()\n"
   ]
  },
  {
   "cell_type": "code",
   "execution_count": null,
   "metadata": {
    "collapsed": true
   },
   "outputs": [],
   "source": [
    "# Moving Average Model\n",
    "# Given a list X, time t, and m number of observations\n",
    "# Return the value of Y at time t of the previous m elements in X.\n",
    "\n",
    "def moving_average(X, t, m):\n",
    "    s = sum(X[(t-m):t])\n",
    "    avg = s/m\n",
    "    return avg\n",
    "\n",
    "print moving_average(prices1, 24, 24)"
   ]
  },
  {
   "cell_type": "code",
   "execution_count": null,
   "metadata": {
    "collapsed": true
   },
   "outputs": [],
   "source": [
    "ercot = ercot_data_interface(password=\"Is79t5Is79t5\")\n",
    "nodes_crr = ercot.get_CRR_nodes()\n",
    "nodes_all = ercot.all_nodes\n",
    "nodes_source = ercot.get_sources_sinks()\n",
    "df_2011 = ercot.query_prices(nodes_all[0], \"2011-01-01\",\"2011-12-31\")\n",
    "df_2012 = ercot.query_prices(nodes_all[0], \"2012-01-01\",\"2012-12-31\")\n",
    "matrix_2011 = df_2011.as_matrix()\n",
    "matrix_2012 = df_2012.as_matrix()"
   ]
  },
  {
   "cell_type": "code",
   "execution_count": null,
   "metadata": {
    "collapsed": true
   },
   "outputs": [],
   "source": [
    "arima = ARIMA(p = 2, d = 0, q = 0, seasonal = 24)\n",
    "arima.fit(matrix_2011)\n",
    "arima.plot_predicted_vs_actual(matrix_2012)\n",
    "print arima.mae(matrix_2012)"
   ]
  },
  {
   "cell_type": "code",
   "execution_count": null,
   "metadata": {
    "collapsed": true
   },
   "outputs": [],
   "source": [
    "# Arima Forcasting with variable horizon\n",
    "\n",
    "def arima_forcast(train, test, horizon, p, d, q, seasonal):\n",
    "    # First split data into subsets offset by 24, and fit ARIMA models to these subsets.\n",
    "    hours_train = []\n",
    "    hours_test = []\n",
    "    arima_models = []\n",
    "    loss = p + q + seasonal - 1\n",
    "\n",
    "    for i in range(horizon):\n",
    "        ind_train = np.arange(i,train.shape[0],horizon)\n",
    "        ind_test = np.arange(i,test.shape[0],horizon)\n",
    "\n",
    "        hours_train.append(train[ind_train])\n",
    "        hours_test.append(test[ind_test])\n",
    "\n",
    "        arima = ARIMA(p, d, q, seasonal)\n",
    "        arima.fit(train[ind_train])\n",
    "        arima_models.append(arima)\n",
    "\n",
    "    # Make predictions with the ARIMA models\n",
    "    # Merge the predictions into a single array to be ploted against actual data\n",
    "    merged_prediction = np.zeros(horizon * (test.shape[0] / horizon - loss))\n",
    "    merged_actual = np.zeros(horizon * (test.shape[0] / horizon - loss))\n",
    "    \n",
    "    for i in range(len(arima_models)):\n",
    "        prediction, actual = arima_models[i].predict(hours_test[i])\n",
    "        prediction = prediction.squeeze().tolist()\n",
    "        actual = actual.squeeze().tolist()\n",
    "\n",
    "        if len(prediction) < (len(test) / horizon) - loss:\n",
    "            prediction.extend(np.zeros((len(test) / horizon - loss) - len(prediction)))\n",
    "            actual.extend(np.zeros((len(test) / horizon - loss) - len(actual)))\n",
    "\n",
    "        for j in range(len(prediction)):\n",
    "            front = [0] * i\n",
    "            back = [0] * (horizon-1-i)\n",
    "            index = j * horizon\n",
    "\n",
    "            prediction[index:index] = front\n",
    "            actual[index:index] = front\n",
    "\n",
    "            prediction[index+i+1:index+i+1] = back\n",
    "            actual[index+i+1:index+i+1] = back\n",
    "\n",
    "        merged_prediction += prediction\n",
    "        merged_actual += actual\n",
    "        \n",
    "    return merged_prediction, merged_actual"
   ]
  },
  {
   "cell_type": "code",
   "execution_count": null,
   "metadata": {
    "collapsed": true
   },
   "outputs": [],
   "source": [
    "merged_prediction, merged_actual = \\\n",
    "    arima_forcast(matrix_2011, matrix_2012, 24, 2, 0, 1, 1)\n",
    "plt.plot(merged_actual, label='actual')\n",
    "plt.plot(merged_prediction, label='prediction', alpha=0.5)\n",
    "plt.legend()\n",
    "plt.show()\n",
    "\n",
    "print \"Merged MAE: \" + str(mae(merged_actual, merged_prediction))"
   ]
  },
  {
   "cell_type": "code",
   "execution_count": null,
   "metadata": {
    "collapsed": true,
    "scrolled": true
   },
   "outputs": [],
   "source": [
    "# Calculate mape for various models on the first 5 nodes\n",
    "for i in range(5):\n",
    "    func = hit_rate2\n",
    "    print \"MAE Calculation on Node\" + str(i) + \": \" + str(nodes_all[i])\n",
    "    # Load training and testing data from a node\n",
    "    df_train = ercot.query_prices(nodes_all[i], \"2011-01-01\",\"2015-05-23\")\n",
    "    df_test = ercot.query_prices(nodes_all[i], \"2015-05-23\",\"2016-05-23\")\n",
    "    matrix_train = df_train.as_matrix()\n",
    "    matrix_test = df_test.as_matrix()\n",
    "    \n",
    "    # Preform mean model calculations on data\n",
    "    m = np.mean(matrix_train)\n",
    "    m_matrix = [m] * len(matrix_test)\n",
    "    print func(matrix_test, m_matrix)\n",
    "    \n",
    "    # Perform random walk model calculations on data\n",
    "    walk = matrix_test[:-1]\n",
    "    walk_test = matrix_test[1:]\n",
    "    print func(walk_test, walk)\n",
    "    \n",
    "    # ARIMA(2,0,1,1)\n",
    "    arima = ARIMA(p = 2, d = 0, q = 1, seasonal = 1)\n",
    "    arima.fit(matrix_train)\n",
    "    actual, forcast = arima.predict(matrix_test)\n",
    "    print func(actual, forcast)\n",
    "    \n",
    "    # ARIMA(2,0,2,1)\n",
    "    arima = ARIMA(p = 2, d = 0, q = 2, seasonal = 1)\n",
    "    arima.fit(matrix_train)\n",
    "    actual, forcast = arima.predict(matrix_test)\n",
    "    print func(actual, forcast)\n",
    "    \n",
    "    # ARIMA(2,0,3,1)\n",
    "    arima = ARIMA(p = 2, d = 0, q = 3, seasonal = 1)\n",
    "    arima.fit(matrix_train)\n",
    "    actual, forcast = arima.predict(matrix_test)\n",
    "    print func(actual, forcast)\n",
    "    \n",
    "    # ARIMA(2,0,1,24)\n",
    "    arima = ARIMA(p = 2, d = 0, q = 1, seasonal = 24)\n",
    "    arima.fit(matrix_train)\n",
    "    actual, forcast = arima.predict(matrix_test)\n",
    "    print func(actual, forcast)    \n",
    "    \n",
    "    # ARIMA(2,0,2,24)\n",
    "    arima = ARIMA(p = 2, d = 0, q = 2, seasonal = 24)\n",
    "    arima.fit(matrix_train)\n",
    "    actual, forcast = arima.predict(matrix_test)\n",
    "    print func(actual, forcast)\n",
    "    \n",
    "    # ARIMA(2,0,3,24)\n",
    "    arima = ARIMA(p = 2, d = 0, q = 3, seasonal = 24)\n",
    "    arima.fit(matrix_train)\n",
    "    actual, forcast = arima.predict(matrix_test)\n",
    "    print func(actual, forcast)\n",
    "    \n",
    "    print \"\\n\""
   ]
  },
  {
   "cell_type": "code",
   "execution_count": null,
   "metadata": {
    "collapsed": true
   },
   "outputs": [],
   "source": [
    "df_train = ercot.query_prices(nodes_all[0], \"2011-01-01\",\"2015-05-23\")\n",
    "df_test = ercot.query_prices(nodes_all[0], \"2015-05-23\",\"2016-05-23\")\n",
    "matrix_train = df_train.as_matrix()\n",
    "matrix_test = df_test.as_matrix()"
   ]
  },
  {
   "cell_type": "code",
   "execution_count": null,
   "metadata": {
    "collapsed": true
   },
   "outputs": [],
   "source": [
    "arima = ARIMA(p = 2, d = 0, q = 1, seasonal = 1)\n",
    "arima.fit(matrix_train)\n",
    "print str(arima.mae(matrix_test))\n",
    "arima = ARIMA(p = 2, d = 0, q = 2, seasonal = 1)\n",
    "arima.fit(matrix_train)\n",
    "print str(arima.mae(matrix_test))\n",
    "arima = ARIMA(p = 2, d = 0, q = 3, seasonal = 1)\n",
    "arima.fit(matrix_train)\n",
    "print str(arima.mae(matrix_test))\n",
    "print \"\\n\"\n",
    "\n",
    "arima = ARIMA(p = 2, d = 0, q = 3, seasonal = 20)\n",
    "arima.fit(matrix_train)\n",
    "print str(arima.mae(matrix_test))\n",
    "\n",
    "merged_prediction, merged_actual = \\\n",
    "    arima_forcast(matrix_train, matrix_test, 24, 2, 0, 1, 1)\n",
    "plt.plot(merged_actual, label='actual')\n",
    "plt.plot(merged_prediction, label='prediction', alpha=0.5)\n",
    "plt.legend()\n",
    "plt.show()\n",
    "\n",
    "print \"Merged MAE: \" + str(mae(merged_actual, merged_prediction))"
   ]
  },
  {
   "cell_type": "code",
   "execution_count": 161,
   "metadata": {
    "collapsed": true
   },
   "outputs": [],
   "source": [
    "ercot = ercot_data_interface(password='Is79t5Is79t5')\n",
    "sources_sinks = ercot.get_sources_sinks()"
   ]
  },
  {
   "cell_type": "code",
   "execution_count": 162,
   "metadata": {},
   "outputs": [
    {
     "name": "stdout",
     "output_type": "stream",
     "text": [
      "6\n",
      "(47226, 1)\n",
      "<type 'list'>\n"
     ]
    }
   ],
   "source": [
    "try:\n",
    "    nn = ercot.get_nearest_CRR_neighbors(sources_sinks[1])\n",
    "    prices = []\n",
    "    for n in nn:\n",
    "        q = ercot.query_prices(n, '2011-01-01', '2016-5-23').as_matrix()\n",
    "        prices.append(q)\n",
    "        \n",
    "    print len(prices)\n",
    "    print q.shape\n",
    "    \n",
    "    \n",
    "except Exception as error:\n",
    "    print(repr(error))\n",
    "    \n",
    "print type(nn)"
   ]
  },
  {
   "cell_type": "code",
   "execution_count": 163,
   "metadata": {},
   "outputs": [],
   "source": [
    "fiver = []\n",
    "for ss in sources_sinks:\n",
    "    try:\n",
    "        nn = ercot.get_nearest_CRR_neighbors(ss)\n",
    "        if len(nn) >= 5:\n",
    "            fiver.append(nn)\n",
    "\n",
    "    except Exception as error:\n",
    "        k = 0\n",
    "        # print(repr(error))"
   ]
  },
  {
   "cell_type": "code",
   "execution_count": 164,
   "metadata": {},
   "outputs": [],
   "source": [
    "def isclose(a, b, rel_tol=1e-09, abs_tol=0.0):\n",
    "    return abs(a-b) <= max(rel_tol * max(abs(a), abs(b)), abs_tol)\n",
    "\n",
    "def find_zeroes(list):\n",
    "    x = np.asarray(list).flatten()\n",
    "    count = 0\n",
    "    for e in x:\n",
    "        if isclose(e, 0): count += 1\n",
    "    return count"
   ]
  },
  {
   "cell_type": "code",
   "execution_count": 167,
   "metadata": {},
   "outputs": [
    {
     "name": "stdout",
     "output_type": "stream",
     "text": [
      "0 ['TRENT_TRENT', [0, 3, 4, 0, 5306, 4]]\n",
      "1 ['H_HOLLO_WND1', [3, 19, 18, 17, 762]]\n",
      "2 ['INGLCOS_CTG2', [19, 0, 0, 0, 0, 744, 744, 744, 744, 0]]\n",
      "3 ['LZ_WEST', [0, 2, 0, 0, 0, 0, 0, 15262, 15262, 15262, 15262, 1, 1, 0, 0, 0, 0, 0, 1, 3, 0, 0, 0, 0, 0, 0, 0]]\n",
      "4 ['KMCHI_2ST', [2, 0, 744, 744, 0, 0, 0, 0, 0]]\n",
      "5 ['PC_SOUTH_2', [0, 1, 1, 3, 2]]\n",
      "6 ['HB_HOUSTON', [0, 0, 0, 2, 0, 0, 0, 1, 0, 0, 0, 0, 0, 0, 1633, 1633, 1634, 1634, 0, 0, 0, 0, 0, 0, 0, 0, 0, 1, 1, 2, 2, 0, 1, 0, 1, 0, 0, 0, 0, 0, 0, 0, 9502, 0, 0, 0, 1, 22269, 2, 5303, 5303, 5303, 5303, 1, 1, 0, 0, 3, 10702, 0, 0, 0, 2, 0, 0, 0, 0, 0]]\n",
      "7 ['FLTCK_SSI', [8, 0, 744, 744, 0, 0]]\n",
      "8 ['LZ_HOUSTON', [0, 0, 0, 0, 0, 0, 0, 15262, 15262, 15262, 15262, 1, 1, 0, 0, 0, 0, 0, 1, 3, 0, 0, 0, 0, 0, 0, 0]]\n",
      "9 ['KMCHI_2CT101', [2, 0, 744, 744, 0, 0, 0, 0, 0]]\n",
      "10 ['KMCHI_2CT201', [0, 0, 744, 744, 0, 0, 0, 0, 0]]\n",
      "11 ['NUE_NUECESG7', [0, 0, 5, 4, 33857, 33856, 0, 0, 0, 1, 36041, 4, 744, 744, 749, 748, 34096, 34097, 744, 744, 34096, 34097, 744, 0]]\n",
      "12 ['HB_NORTH', [0, 0, 0, 2, 0, 0, 0, 1, 0, 0, 0, 0, 0, 0, 1633, 1633, 1634, 1634, 0, 0, 0, 0, 0, 0, 0, 0, 0, 1, 1, 2, 2, 0, 1, 0, 1, 0, 0, 0, 0, 0, 0, 0, 9502, 0, 0, 0, 1, 22269, 2, 5303, 5303, 5303, 5303, 1, 1, 0, 0, 3, 10702, 0, 0, 0, 2, 0, 0, 0, 0, 0]]\n",
      "13 ['FRO_FRONTEG1', [8, 1, 24117, 24117, 24118, 1, 1, 2, 747, 745, 745, 745, 14110, 30836, 1, 2, 3, 20420, 20421, 1, 1, 1]]\n",
      "14 ['FRO_FRONTEG3', [0, 3, 24117, 24117, 24118, 1, 1, 2, 747, 745, 745, 745, 14110, 30836, 1, 2, 3, 20420, 20421, 1, 1, 1]]\n",
      "15 ['FRO_FRONTEG2', [0, 2, 24117, 24117, 24118, 1, 1, 2, 747, 745, 745, 745, 14110, 30836, 1, 2, 3, 20420, 20421, 1, 1, 1]]\n",
      "16 ['CAL_CALGT1', [0, 1, 0, 0, 0, 0, 0, 0, 0, 1, 1, 1, 0, 0, 744, 744, 744, 744, 745, 745, 744, 744, 744, 745, 745, 744, 744, 744, 744, 0, 0, 0, 0, 0, 0, 3, 5, 5, 0, 0, 0, 0, 0, 0, 1, 1, 1, 745, 745, 1, 0, 0, 0, 0, 0, 22410, 0, 0, 0, 0, 1, 0, 0, 0, 744, 1, 0, 0, 0, 0, 0, 0, 0, 0, 0, 0, 0, 0, 0, 0, 0, 0, 0, 0, 0, 0, 44869, 1, 1, 1, 2, 1, 1, 0, 0, 0, 1, 0, 0, 1, 1, 0]]\n",
      "17 ['CALAVER_OWS1', [0, 0, 0, 0, 0, 1, 1, 1, 0, 0, 744, 744, 744, 744, 745, 745, 744, 744, 744, 745, 745, 744, 744, 744, 744, 0, 0, 0, 0, 0, 0, 1]]\n",
      "18 ['CALAVER_OWS2', [0, 0, 0, 0, 0, 1, 1, 1, 0, 0, 744, 744, 744, 744, 745, 745, 744, 744, 744, 745, 745, 744, 744, 744, 744, 0, 0, 0, 0, 0, 0, 1]]\n",
      "19 ['LOS_LOSTPGT1', [0, 0, 0, 45350, 17516, 17515, 1, 0, 744, 745, 0, 1, 2, 0, 0, 0]]\n",
      "20 ['LOS_LOSTPGT2', [22627, 1, 0, 45350, 17516, 17515, 1, 0, 744, 745, 0, 1, 2, 0, 0, 0]]\n",
      "21 ['BRAUNIG_VHB3', [22627, 0, 1, 745, 745, 745, 744, 744, 745, 745, 745, 746, 1, 744, 0, 0, 0, 2, 2, 0, 0, 1]]\n",
      "22 ['HB_BUSAVG', [1, 0, 0, 2, 0, 0, 0, 1, 0, 0, 0, 0, 0, 0, 1633, 1633, 1634, 1634, 0, 0, 0, 0, 0, 0, 0, 0, 0, 1, 1, 2, 2, 0, 1, 0, 1, 0, 0, 0, 0, 0, 0, 0, 9502, 0, 0, 0, 1, 22269, 2, 5303, 5303, 5303, 5303, 1, 1, 0, 0, 3, 10702, 0, 0, 0, 2, 0, 0, 0, 0, 0]]\n",
      "23 ['OECCS_2', [8, 2, 746, 747, 3, 20228, 18260, 2, 18260]]\n",
      "24 ['OECCS_1', [20227, 3, 746, 747, 3, 20228, 18260, 2, 18260]]\n",
      "25 ['KING_KINGNW', [20227, 3, 3, 0, 0, 2, 2, 0, 0, 44606, 0, 0, 432, 0, 2, 2, 2, 0, 0, 0, 3, 3, 747, 18260, 3, 747, 747, 747, 3, 0, 0, 0, 0, 0, 0, 0, 23443, 4, 4, 3]]\n",
      "26 ['VISTRON_TG1', [4, 0, 744, 744, 0, 0, 0, 0, 0, 0, 0]]\n",
      "27 ['VISTRON_TG2', [0, 0, 744, 744, 0, 0, 0, 0, 0, 0, 0]]\n",
      "28 ['LZ_CPS', [0, 0, 0, 0, 0, 0, 0, 15262, 15262, 15262, 15262, 1, 1, 0, 0, 0, 0, 0, 1, 3, 0, 0, 0, 0, 0, 0, 0]]\n",
      "29 ['TUTTL_WBT4G4', [2, 45805, 2, 1, 0, 45805, 745, 745, 745, 745, 745, 45806, 0, 0, 0, 0, 45805, 45805]]\n",
      "30 ['FO_FORMOSG3', [45805, 0, 0, 1, 0, 1, 1, 7990, 1, 2, 1, 12408, 4, 2, 4160, 5303, 4151, 5303, 4151, 4151, 0, 0, 0, 0, 0, 43623, 744, 744, 744, 42878, 42878, 0, 1, 1, 0, 1, 1, 0, 0, 0, 1, 1, 16773, 2, 2, 5303, 5303, 5303, 5304, 5304, 5303, 5303, 5303, 5303, 5303, 0, 0, 0, 0, 0, 0, 0, 0, 0, 0, 0, 0, 12837, 33521, 33521, 33521, 33521, 0, 0, 1, 0, 0, 0, 0, 0, 0, 0, 0, 0, 1, 2, 1, 0, 0, 33689, 45855, 0, 0, 0, 0, 0, 0, 0, 0, 0, 744, 744, 744, 744, 744, 744, 744, 744, 744, 0, 0, 0, 0, 0, 1, 0, 0, 0, 0, 0, 0]]\n",
      "31 ['LEON_LCP3G3', [0, 18764, 1, 2, 0, 0, 0, 0, 0, 0, 0, 0, 0, 0, 0, 744, 744, 744, 744, 744, 18764, 18764, 0, 0, 1, 1, 0]]\n",
      "32 ['HB_HUBAVG', [0, 0, 0, 2, 0, 0, 0, 1, 0, 0, 0, 0, 0, 0, 1633, 1633, 1634, 1634, 0, 0, 0, 0, 0, 0, 0, 0, 0, 1, 1, 2, 2, 0, 1, 0, 1, 0, 0, 0, 0, 0, 0, 0, 9502, 0, 0, 0, 1, 22269, 2, 5303, 5303, 5303, 5303, 1, 1, 0, 0, 3, 10702, 0, 0, 0, 2, 0, 0, 0, 0, 0]]\n",
      "33 ['BVE_UNIT3', [8, 0, 5303, 5303, 5303, 0, 0, 0, 0, 0]]\n",
      "34 ['BVE_UNIT2', [0, 0, 5303, 5303, 5303, 0, 0, 0, 0, 0]]\n",
      "35 ['BVE_UNIT1', [0, 0, 5303, 5303, 5303, 0, 0, 0, 0, 0]]\n",
      "36 ['GWEC_G1', [0, 23448, 24816, 23448, 23447]]\n",
      "37 ['AMO_AMOCO_S2', [23447, 0, 0, 0, 0, 0, 0, 0, 1]]\n",
      "38 ['AMO_AMOCO_S1', [0, 1, 0, 0, 0, 0, 0, 0, 1]]\n",
      "39 ['GID_GIDEONG1', [0, 0, 744, 0, 744, 0, 745, 744, 746, 745, 744, 744, 744, 0, 0, 1, 0, 0, 0, 0, 0, 0, 0]]\n",
      "40 ['TUTTL_WBT3G3', [0, 45805, 2, 1, 0, 45805, 745, 745, 745, 745, 745, 45806, 0, 0, 0, 0, 45805, 45805]]\n",
      "41 ['GID_GIDEONG2', [45805, 0, 744, 0, 744, 0, 745, 744, 746, 745, 744, 744, 744, 0, 0, 1, 0, 0, 0, 0, 0, 0, 0]]\n",
      "42 ['LPCCS_CT21', [0, 0, 1, 0, 0, 0, 744, 745, 0, 0, 0, 1, 1]]\n",
      "43 ['GID_GIDEONG3', [0, 1, 744, 0, 744, 0, 745, 744, 746, 745, 744, 744, 744, 0, 0, 1, 0, 0, 0, 0, 0, 0, 0]]\n",
      "44 ['FO_FORMOSG9', [0, 1, 0, 1, 0, 1, 1, 7990, 1, 2, 1, 12408, 4, 2, 4160, 5303, 4151, 5303, 4151, 4151, 0, 0, 0, 0, 0, 43623, 744, 744, 744, 42878, 42878, 0, 1, 1, 0, 1, 1, 0, 0, 0, 1, 1, 16773, 2, 2, 5303, 5303, 5303, 5304, 5304, 5303, 5303, 5303, 5303, 5303, 0, 0, 0, 0, 0, 0, 0, 0, 0, 0, 0, 0, 12837, 33521, 33521, 33521, 33521, 0, 0, 1, 0, 0, 0, 0, 0, 0, 0, 0, 0, 1, 2, 1, 0, 0, 33689, 45855, 0, 0, 0, 0, 0, 0, 0, 0, 0, 744, 744, 744, 744, 744, 744, 744, 744, 744, 0, 0, 0, 0, 0, 1, 0, 0, 0, 0, 0, 0]]\n",
      "45 ['FLCNS_UNIT1', [0, 3, 747, 747, 3, 3, 3, 3]]\n",
      "46 ['FLCNS_UNIT2', [3, 3, 747, 747, 3, 3, 3, 3]]\n",
      "47 ['FLCNS_UNIT3', [3, 3, 747, 747, 3, 3, 3, 3]]\n",
      "48 ['DDPEC_GT2', [3, 1, 2, 2, 2, 2, 2, 2, 2, 26635, 1, 1, 26634]]\n",
      "49 ['DDPEC_GT6', [0, 26634, 2, 2, 2, 2, 2, 2, 2, 26635, 1, 1, 26634]]\n",
      "50 ['DDPEC_GT4', [0, 1, 2, 2, 2, 2, 2, 2, 2, 26635, 1, 1, 26634]]\n",
      "51 ['WCPP_ST1', [0, 10, 10, 10, 4353, 4353, 4353, 10, 10, 10]]\n",
      "52 ['TXCTY_CTA', [10, 0, 0, 1, 0, 0, 0]]\n",
      "53 ['TXCTY_CTC', [0, 0, 0, 1, 0, 0, 0]]\n",
      "54 ['TXCTY_CTB', [0, 1, 0, 1, 0, 0, 0]]\n",
      "55 ['JACKCNTY_CT1', [0, 0, 0, 0, 0, 0, 0]]\n",
      "56 ['JACKCNTY_CT2', [1, 0, 0, 0, 0, 0, 0]]\n",
      "57 ['RIONOG_CT2', [1, 1, 744, 745, 1, 1, 1]]\n",
      "58 ['RIONOG_CT3', [1, 1, 744, 745, 1, 1, 1]]\n",
      "59 ['INGLCOS_CTG1', [1, 0, 0, 0, 0, 744, 744, 744, 744, 0]]\n",
      "60 ['DIB_DIB_G4', [0, 1, 0, 0, 0]]\n",
      "61 ['DIB_DIB_G3', [1, 0, 0, 0, 0]]\n",
      "62 ['DIB_DIB_G2', [1, 0, 0, 0, 0]]\n",
      "63 ['DIB_DIB_G1', [1, 0, 0, 0, 0]]\n",
      "64 ['CAL_CALSTG1', [1, 0, 0, 0, 0, 0, 0, 0, 0, 1, 1, 1, 0, 0, 744, 744, 744, 744, 745, 745, 744, 744, 744, 745, 745, 744, 744, 744, 744, 0, 0, 0, 0, 0, 0, 3, 5, 5, 0, 0, 0, 0, 0, 0, 1, 1, 1, 745, 745, 1, 0, 0, 0, 0, 0, 22410, 0, 0, 0, 0, 1, 0, 0, 0, 744, 1, 0, 0, 0, 0, 0, 0, 0, 0, 0, 0, 0, 0, 0, 0, 0, 0, 0, 0, 0, 0, 44869, 1, 1, 1, 2, 1, 1, 0, 0, 0, 1, 0, 0, 1, 1, 0]]\n",
      "65 ['JACKCNTY_STG', [0, 1, 0, 0, 0, 0, 0]]\n",
      "66 ['CCEC_GT1', [1, 1, 18957, 18957, 4343, 4344, 2, 3, 1, 2, 2, 1, 2, 0]]\n",
      "67 ['CCEC_GT2', [1, 2, 18957, 18957, 4343, 4344, 2, 3, 1, 2, 2, 1, 2, 0]]\n",
      "68 ['LPCCS_UNIT1', [1, 1, 1, 0, 0, 0, 744, 745, 0, 0, 0, 1, 1]]\n",
      "69 ['BRAUNIG_VHB2', [0, 0, 1, 745, 745, 745, 744, 744, 745, 745, 745, 746, 1, 744, 0, 0, 0, 2, 2, 0, 0, 1]]\n",
      "70 ['BRAUNIG_VHB1', [1, 2, 1, 745, 745, 745, 744, 744, 745, 745, 745, 746, 1, 744, 0, 0, 0, 2, 2, 0, 0, 1]]\n",
      "71 ['LPCCS_UNIT2', [1, 0, 1, 0, 0, 0, 744, 745, 0, 0, 0, 1, 1]]\n",
      "72 ['LZ_NORTH', [0, 0, 0, 0, 0, 0, 0, 15262, 15262, 15262, 15262, 1, 1, 0, 0, 0, 0, 0, 1, 3, 0, 0, 0, 0, 0, 0, 0]]\n",
      "73 ['HB_SOUTH', [2, 0, 0, 2, 0, 0, 0, 1, 0, 0, 0, 0, 0, 0, 1633, 1633, 1634, 1634, 0, 0, 0, 0, 0, 0, 0, 0, 0, 1, 1, 2, 2, 0, 1, 0, 1, 0, 0, 0, 0, 0, 0, 0, 9502, 0, 0, 0, 1, 22269, 2, 5303, 5303, 5303, 5303, 1, 1, 0, 0, 3, 10702, 0, 0, 0, 2, 0, 0, 0, 0, 0]]\n",
      "74 ['COL_COLETOG1', [8, 1, 21619, 21619, 44610, 44609, 3, 0, 0, 0, 744, 12093, 744, 0, 0, 31673, 0, 2, 2, 0, 0, 2, 2, 2, 0, 0, 23778, 23778, 1, 2, 2, 1, 2, 2, 2, 1, 0, 2, 0, 2, 1, 1, 1, 1, 1, 0, 0, 0, 0, 15836, 0, 0, 0, 0, 0, 0, 3289, 3289, 1, 1, 1, 1, 0, 0, 0, 1, 0, 0, 0, 0, 0, 0]]\n",
      "75 ['SGM_SIGNALMT', [0, 2, 747, 746, 2, 33186, 33185]]\n"
     ]
    },
    {
     "name": "stdout",
     "output_type": "stream",
     "text": [
      "76 ['LZ_SOUTH', [2, 0, 0, 0, 0, 0, 0, 15262, 15262, 15262, 15262, 1, 1, 0, 0, 0, 0, 0, 1, 3, 0, 0, 0, 0, 0, 0, 0]]\n",
      "77 ['FER_FERGUSG1', [2, 19076, 24115, 24115, 24115, 24115, 24115, 24115, 24115, 24115, 0, 744, 744, 744, 744, 744, 744, 744, 8014, 0, 0, 0, 0, 0, 19076, 2, 1, 1]]\n",
      "78 ['CPSES_UNIT1', [19076, 0, 5303, 5304, 0, 744, 744, 745, 745, 744, 744, 744, 2159, 2423, 0, 0, 0, 0, 0, 0]]\n",
      "79 ['CPSES_UNIT2', [0, 0, 5303, 5304, 0, 744, 744, 745, 745, 744, 744, 744, 2159, 2423, 0, 0, 0, 0, 0, 0]]\n",
      "80 ['SD5SES_5', [0, 0, 744, 744, 744, 0, 0, 0, 0]]\n",
      "81 ['OGSES_2', [0, 0, 0, 0, 0, 0, 0, 0, 0, 0]]\n",
      "82 ['OGSES_1', [0, 0, 0, 0, 0, 0, 0, 0, 0, 0]]\n",
      "83 ['TGCCS_CT3', [0, 0, 744, 0, 0, 0, 0, 0]]\n",
      "84 ['MAR_MARSFOG1', [0, 0, 1, 0, 0, 0, 1, 10367, 43694, 0, 0, 0, 0, 0, 0, 0, 0, 0, 0, 1, 0, 0, 0, 0, 0, 0, 0, 0, 0, 0, 0, 0, 33353, 41390, 41390, 41390, 744, 744, 744, 2, 45997, 20420, 1, 0, 5306, 5306, 5306, 5303, 5303, 5303, 5303, 5303, 5303, 0, 1, 1, 0, 0, 0, 0, 744, 744, 744, 744, 744, 744, 744, 744, 744, 0, 0, 0, 0, 1, 8998, 9670, 0, 3, 0, 0, 0, 0, 0, 0, 0, 36855, 42590, 42590, 42590, 4631, 0, 0, 0, 0, 0, 42590, 42590, 42590, 0, 0, 0, 0, 0, 0, 6600, 0, 40622, 40623]]\n",
      "85 ['MAR_MARSFOG3', [0, 0, 1, 0, 0, 0, 1, 10367, 43694, 0, 0, 0, 0, 0, 0, 0, 0, 0, 0, 1, 0, 0, 0, 0, 0, 0, 0, 0, 0, 0, 0, 0, 33353, 41390, 41390, 41390, 744, 744, 744, 2, 45997, 20420, 1, 0, 5306, 5306, 5306, 5303, 5303, 5303, 5303, 5303, 5303, 0, 1, 1, 0, 0, 0, 0, 744, 744, 744, 744, 744, 744, 744, 744, 744, 0, 0, 0, 0, 1, 8998, 9670, 0, 3, 0, 0, 0, 0, 0, 0, 0, 36855, 42590, 42590, 42590, 4631, 0, 0, 0, 0, 0, 42590, 42590, 42590, 0, 0, 0, 0, 0, 0, 6600, 0, 40622, 40623]]\n",
      "86 ['RIONOG_ST1', [0, 1, 744, 745, 1, 1, 1]]\n",
      "87 ['HB_WEST', [1, 8, 0, 2, 0, 0, 0, 1, 0, 0, 0, 0, 0, 0, 1633, 1633, 1634, 1634, 0, 0, 0, 0, 0, 0, 0, 0, 0, 1, 1, 2, 2, 0, 1, 0, 1, 0, 0, 0, 0, 0, 0, 0, 9502, 0, 0, 0, 1, 22269, 2, 5303, 5303, 5303, 5303, 1, 1, 0, 0, 3, 10702, 0, 0, 0, 2, 0, 0, 0, 0, 0]]\n",
      "88 ['MAR_MARSFOG2', [8, 0, 1, 0, 0, 0, 1, 10367, 43694, 0, 0, 0, 0, 0, 0, 0, 0, 0, 0, 1, 0, 0, 0, 0, 0, 0, 0, 0, 0, 0, 0, 0, 33353, 41390, 41390, 41390, 744, 744, 744, 2, 45997, 20420, 1, 0, 5306, 5306, 5306, 5303, 5303, 5303, 5303, 5303, 5303, 0, 1, 1, 0, 0, 0, 0, 744, 744, 744, 744, 744, 744, 744, 744, 744, 0, 0, 0, 0, 1, 8998, 9670, 0, 3, 0, 0, 0, 0, 0, 0, 0, 36855, 42590, 42590, 42590, 4631, 0, 0, 0, 0, 0, 42590, 42590, 42590, 0, 0, 0, 0, 0, 0, 6600, 0, 40622, 40623]]\n",
      "89 ['KMCHI_1ST', [0, 0, 744, 744, 0, 0, 0, 0, 0]]\n",
      "90 ['BRTSW_BCW1', [0, 0, 744, 744, 0, 0]]\n",
      "91 ['GUADG_GAS1', [0, 0, 744, 744, 0, 0, 0, 0, 0, 0, 0, 0]]\n",
      "92 ['GBY_GBY_5', [0, 0, 0, 0, 1]]\n",
      "93 ['LEON_LCP4G4', [0, 18764, 1, 2, 0, 0, 0, 0, 0, 0, 0, 0, 0, 0, 0, 744, 744, 744, 744, 744, 18764, 18764, 0, 0, 1, 1, 0]]\n",
      "94 ['TGCCS_CT2', [0, 0, 744, 0, 0, 0, 0, 0]]\n",
      "95 ['FO_FORMOSG8', [0, 0, 0, 1, 0, 1, 1, 7990, 1, 2, 1, 12408, 4, 2, 4160, 5303, 4151, 5303, 4151, 4151, 0, 0, 0, 0, 0, 43623, 744, 744, 744, 42878, 42878, 0, 1, 1, 0, 1, 1, 0, 0, 0, 1, 1, 16773, 2, 2, 5303, 5303, 5303, 5304, 5304, 5303, 5303, 5303, 5303, 5303, 0, 0, 0, 0, 0, 0, 0, 0, 0, 0, 0, 0, 12837, 33521, 33521, 33521, 33521, 0, 0, 1, 0, 0, 0, 0, 0, 0, 0, 0, 0, 1, 2, 1, 0, 0, 33689, 45855, 0, 0, 0, 0, 0, 0, 0, 0, 0, 744, 744, 744, 744, 744, 744, 744, 744, 744, 0, 0, 0, 0, 0, 1, 0, 0, 0, 0, 0, 0]]\n",
      "96 ['FO_FORMOSG6', [0, 0, 0, 1, 0, 1, 1, 7990, 1, 2, 1, 12408, 4, 2, 4160, 5303, 4151, 5303, 4151, 4151, 0, 0, 0, 0, 0, 43623, 744, 744, 744, 42878, 42878, 0, 1, 1, 0, 1, 1, 0, 0, 0, 1, 1, 16773, 2, 2, 5303, 5303, 5303, 5304, 5304, 5303, 5303, 5303, 5303, 5303, 0, 0, 0, 0, 0, 0, 0, 0, 0, 0, 0, 0, 12837, 33521, 33521, 33521, 33521, 0, 0, 1, 0, 0, 0, 0, 0, 0, 0, 0, 0, 1, 2, 1, 0, 0, 33689, 45855, 0, 0, 0, 0, 0, 0, 0, 0, 0, 744, 744, 744, 744, 744, 744, 744, 744, 744, 0, 0, 0, 0, 0, 1, 0, 0, 0, 0, 0, 0]]\n",
      "97 ['FO_FORMOSG7', [0, 0, 0, 1, 0, 1, 1, 7990, 1, 2, 1, 12408, 4, 2, 4160, 5303, 4151, 5303, 4151, 4151, 0, 0, 0, 0, 0, 43623, 744, 744, 744, 42878, 42878, 0, 1, 1, 0, 1, 1, 0, 0, 0, 1, 1, 16773, 2, 2, 5303, 5303, 5303, 5304, 5304, 5303, 5303, 5303, 5303, 5303, 0, 0, 0, 0, 0, 0, 0, 0, 0, 0, 0, 0, 12837, 33521, 33521, 33521, 33521, 0, 0, 1, 0, 0, 0, 0, 0, 0, 0, 0, 0, 1, 2, 1, 0, 0, 33689, 45855, 0, 0, 0, 0, 0, 0, 0, 0, 0, 744, 744, 744, 744, 744, 744, 744, 744, 744, 0, 0, 0, 0, 0, 1, 0, 0, 0, 0, 0, 0]]\n",
      "98 ['FO_FORMOSG4', [0, 0, 0, 1, 0, 1, 1, 7990, 1, 2, 1, 12408, 4, 2, 4160, 5303, 4151, 5303, 4151, 4151, 0, 0, 0, 0, 0, 43623, 744, 744, 744, 42878, 42878, 0, 1, 1, 0, 1, 1, 0, 0, 0, 1, 1, 16773, 2, 2, 5303, 5303, 5303, 5304, 5304, 5303, 5303, 5303, 5303, 5303, 0, 0, 0, 0, 0, 0, 0, 0, 0, 0, 0, 0, 12837, 33521, 33521, 33521, 33521, 0, 0, 1, 0, 0, 0, 0, 0, 0, 0, 0, 0, 1, 2, 1, 0, 0, 33689, 45855, 0, 0, 0, 0, 0, 0, 0, 0, 0, 744, 744, 744, 744, 744, 744, 744, 744, 744, 0, 0, 0, 0, 0, 1, 0, 0, 0, 0, 0, 0]]\n",
      "99 ['FO_FORMOSG5', [0, 0, 0, 1, 0, 1, 1, 7990, 1, 2, 1, 12408, 4, 2, 4160, 5303, 4151, 5303, 4151, 4151, 0, 0, 0, 0, 0, 43623, 744, 744, 744, 42878, 42878, 0, 1, 1, 0, 1, 1, 0, 0, 0, 1, 1, 16773, 2, 2, 5303, 5303, 5303, 5304, 5304, 5303, 5303, 5303, 5303, 5303, 0, 0, 0, 0, 0, 0, 0, 0, 0, 0, 0, 0, 12837, 33521, 33521, 33521, 33521, 0, 0, 1, 0, 0, 0, 0, 0, 0, 0, 0, 0, 1, 2, 1, 0, 0, 33689, 45855, 0, 0, 0, 0, 0, 0, 0, 0, 0, 744, 744, 744, 744, 744, 744, 744, 744, 744, 0, 0, 0, 0, 0, 1, 0, 0, 0, 0, 0, 0]]\n",
      "100 ['FO_FORMOSG2', [0, 0, 0, 1, 0, 1, 1, 7990, 1, 2, 1, 12408, 4, 2, 4160, 5303, 4151, 5303, 4151, 4151, 0, 0, 0, 0, 0, 43623, 744, 744, 744, 42878, 42878, 0, 1, 1, 0, 1, 1, 0, 0, 0, 1, 1, 16773, 2, 2, 5303, 5303, 5303, 5304, 5304, 5303, 5303, 5303, 5303, 5303, 0, 0, 0, 0, 0, 0, 0, 0, 0, 0, 0, 0, 12837, 33521, 33521, 33521, 33521, 0, 0, 1, 0, 0, 0, 0, 0, 0, 0, 0, 0, 1, 2, 1, 0, 0, 33689, 45855, 0, 0, 0, 0, 0, 0, 0, 0, 0, 744, 744, 744, 744, 744, 744, 744, 744, 744, 0, 0, 0, 0, 0, 1, 0, 0, 0, 0, 0, 0]]\n",
      "101 ['FO_FORMOSG1', [0, 0, 0, 1, 0, 1, 1, 7990, 1, 2, 1, 12408, 4, 2, 4160, 5303, 4151, 5303, 4151, 4151, 0, 0, 0, 0, 0, 43623, 744, 744, 744, 42878, 42878, 0, 1, 1, 0, 1, 1, 0, 0, 0, 1, 1, 16773, 2, 2, 5303, 5303, 5303, 5304, 5304, 5303, 5303, 5303, 5303, 5303, 0, 0, 0, 0, 0, 0, 0, 0, 0, 0, 0, 0, 12837, 33521, 33521, 33521, 33521, 0, 0, 1, 0, 0, 0, 0, 0, 0, 0, 0, 0, 1, 2, 1, 0, 0, 33689, 45855, 0, 0, 0, 0, 0, 0, 0, 0, 0, 744, 744, 744, 744, 744, 744, 744, 744, 744, 0, 0, 0, 0, 0, 1, 0, 0, 0, 0, 0, 0]]\n",
      "102 ['LZ_AEN', [0, 0, 0, 0, 0, 0, 0, 15262, 15262, 15262, 15262, 1, 1, 0, 0, 0, 0, 0, 1, 3, 0, 0, 0, 0, 0, 0, 0]]\n",
      "103 ['PENA_ALL', [2, 47029, 5113, 5663, 42110, 2, 44510, 43718, 16796, 42110, 47029, 11853, 11853, 11853, 11853, 11853, 0, 35368, 35368]]\n",
      "104 ['CEL_CELANEG1', [35536, 0, 1, 1, 1, 0, 1, 1, 0, 0, 1, 2, 2, 2, 1, 1, 0, 0, 0, 0, 2]]\n",
      "105 ['TC_TCHP1', [2, 0, 2, 15265, 15265, 1, 0, 0, 0, 744, 744, 0, 0, 0, 3287, 3, 0, 46933, 33856, 45350, 17516, 17515, 1, 1, 2, 0, 0, 0, 36376, 0, 0, 0, 0, 0, 0, 15263, 15263, 3, 2, 1, 0, 2, 2, 2, 2, 27810, 40407, 0, 0, 33016, 33016, 3, 20755, 1, 1, 42015, 1, 20255, 20255, 20255, 20255, 20256, 20256, 20257, 26468, 32852, 32852, 32852, 34627, 32852, 1, 744, 744, 0, 0, 0, 0, 0, 0, 2, 2, 0, 0, 0, 0, 1, 1, 5313, 5313, 5313, 5313]]\n",
      "106 ['THW_THWGT_1', [5313, 2, 3, 2, 2, 1, 0, 0, 1]]\n",
      "107 ['BTE_BTE_G3', [2, 0, 0, 0, 0]]\n",
      "108 ['BTE_BTE_G2', [0, 0, 0, 0, 0]]\n",
      "109 ['BTE_BTE_G1', [0, 0, 0, 0, 0]]\n",
      "110 ['BTE_BTE_G4', [0, 0, 0, 0, 0]]\n",
      "111 ['KMCHI_1CT101', [0, 0, 744, 744, 0, 0, 0, 0, 0]]\n",
      "112 ['TGCCS_UNIT4', [0, 0, 744, 0, 0, 0, 0, 0]]\n",
      "113 ['DECKER_DPG2', [0, 0, 745, 745, 1968, 0, 0, 0, 0, 744, 5543, 744, 744, 744, 745, 1, 0, 0, 0]]\n",
      "114 ['DECKER_DPG1', [0, 1, 745, 745, 1968, 0, 0, 0, 0, 744, 5543, 744, 744, 744, 745, 1, 0, 0, 0]]\n",
      "115 ['GUADG_STM5', [0, 0, 744, 744, 0, 0, 0, 0, 0, 0, 0, 0]]\n",
      "116 ['WCPP_CT1', [0, 10, 10, 10, 4353, 4353, 4353, 10, 10, 10]]\n",
      "117 ['WCPP_CT2', [10, 10, 10, 10, 4353, 4353, 4353, 10, 10, 10]]\n",
      "118 ['AMO_AMOCO_1', [10, 0, 0, 0, 0, 0, 0, 0, 1]]\n",
      "119 ['AMO_AMOCO_2', [0, 0, 0, 0, 0, 0, 0, 0, 1]]\n",
      "120 ['AMO_AMOCO_5', [0, 0, 0, 0, 0, 0, 0, 0, 1]]\n",
      "121 ['PSA_PSA_G7', [0, 1, 0, 0, 29321, 1, 0, 29321]]\n",
      "122 ['PSA_PSA_G6', [1, 29321, 0, 0, 29321, 1, 0, 29321]]\n",
      "123 ['PSA_PSA_G5', [1, 0, 0, 0, 29321, 1, 0, 29321]]\n",
      "124 ['PSA_PSA_G4', [1, 1, 0, 0, 29321, 1, 0, 29321]]\n",
      "125 ['PSA_PSA_G3', [1, 29321, 0, 0, 29321, 1, 0, 29321]]\n"
     ]
    },
    {
     "name": "stdout",
     "output_type": "stream",
     "text": [
      "126 ['PSA_PSA_G2', [1, 0, 0, 0, 29321, 1, 0, 29321]]\n",
      "127 ['PSA_PSA_G1', [1, 0, 0, 0, 29321, 1, 0, 29321]]\n",
      "128 ['LPCCS_CT22', [1, 1, 1, 0, 0, 0, 744, 745, 0, 0, 0, 1, 1]]\n",
      "129 ['PC_SOUTH_3', [0, 3, 1, 3, 2]]\n",
      "130 ['TGCCS_CT1', [0, 0, 744, 0, 0, 0, 0, 0]]\n",
      "131 ['KMCHI_1CT201', [0, 0, 744, 744, 0, 0, 0, 0, 0]]\n",
      "132 ['FO_FORMOSG10', [0, 0, 0, 1, 0, 1, 1, 7990, 1, 2, 1, 12408, 4, 2, 4160, 5303, 4151, 5303, 4151, 4151, 0, 0, 0, 0, 0, 43623, 744, 744, 744, 42878, 42878, 0, 1, 1, 0, 1, 1, 0, 0, 0, 1, 1, 16773, 2, 2, 5303, 5303, 5303, 5304, 5304, 5303, 5303, 5303, 5303, 5303, 0, 0, 0, 0, 0, 0, 0, 0, 0, 0, 0, 0, 12837, 33521, 33521, 33521, 33521, 0, 0, 1, 0, 0, 0, 0, 0, 0, 0, 0, 0, 1, 2, 1, 0, 0, 33689, 45855, 0, 0, 0, 0, 0, 0, 0, 0, 0, 744, 744, 744, 744, 744, 744, 744, 744, 744, 0, 0, 0, 0, 0, 1, 0, 0, 0, 0, 0, 0]]\n",
      "133 ['LZ_LCRA', [0, 0, 0, 0, 0, 0, 0, 15262, 15262, 15262, 15262, 1, 1, 0, 0, 0, 0, 0, 1, 3, 0, 0, 0, 0, 0, 0, 0]]\n",
      "134 ['CELANEB_PUN1', [2, 2, 1, 1, 1, 0, 1, 1, 0, 0, 1, 2, 2]]\n",
      "135 ['CELANEB_PUN2', [2, 2, 1, 1, 1, 0, 1, 1, 0, 0, 1, 2, 2]]\n",
      "136 ['TUTTL_WBT1G1', [2, 45805, 2, 1, 0, 45805, 745, 745, 745, 745, 745, 45806, 0, 0, 0, 0, 45805, 45805]]\n",
      "137 ['CALAVER_JTD1', [45805, 0, 0, 0, 0, 1, 1, 1, 0, 0, 744, 744, 744, 744, 745, 745, 744, 744, 744, 745, 745, 744, 744, 744, 744, 0, 0, 0, 0, 0, 0, 1]]\n",
      "138 ['CALAVER_JTD2', [0, 0, 0, 0, 0, 1, 1, 1, 0, 0, 744, 744, 744, 744, 745, 745, 744, 744, 744, 745, 745, 744, 744, 744, 744, 0, 0, 0, 0, 0, 0, 1]]\n",
      "139 ['INDN_INDNNWP', [0, 1, 745, 745, 746, 746, 2, 1, 745, 745, 1, 1, 2, 0, 1, 0]]\n",
      "140 ['IN_INDNENR', [2, 0, 15021, 0, 1, 37216, 1, 2, 2, 3, 43889, 2, 2, 1, 0, 1, 15021, 744, 744, 745, 746, 746, 745, 744, 0, 0, 14037, 0, 0, 1, 0, 0, 0, 0, 2, 1, 1, 1, 0, 33353, 30641, 30641, 16569, 0, 0, 0, 0, 1, 1, 0, 0, 43934, 43934, 6167, 0, 1, 0, 2, 0, 0, 13366, 745, 1, 1, 29177, 2, 2, 2, 1, 1, 1, 1, 26466, 26466, 0, 3, 2, 0, 0, 23778, 23778, 0, 1, 4, 5, 5, 18404, 1, 0, 0, 1, 0, 1, 0, 42830, 0, 0, 2, 1, 0, 1, 20083, 20084, 0, 0, 0, 32208, 32207, 32208, 32206, 32850, 32851, 27474, 14856, 6168, 6169, 41926, 31390, 31389, 31388, 8518, 1, 1, 32206, 15726, 24955, 1, 0, 0, 0, 0, 1, 0, 0, 0, 0, 1, 28819, 3, 1, 18405, 38392, 32368, 14853, 14854, 25988, 19245, 0, 0, 0, 1, 0, 0, 14036, 14036, 14036, 0, 0, 0, 0, 0, 0, 0, 0, 0, 2, 0, 1, 0, 0, 0, 0, 33690, 0, 0, 0, 31388, 45542, 23447, 26466, 26466, 1104, 0, 1, 0, 0, 0, 0, 12405, 19, 34144, 0, 0, 1, 1, 2, 745, 745, 746, 746, 2, 1, 745, 745, 1, 1, 2, 0, 0, 0, 0, 0, 30665, 30667, 0, 0, 0, 0, 1, 1, 47053, 16556, 16604, 47053, 0, 16556, 16772, 0, 0, 0, 0, 744, 744, 744, 744, 0, 0, 0, 0, 46933, 288, 744, 0, 0, 0, 0, 0, 0, 46621, 0, 1, 0, 0, 0, 0, 10199, 0, 20923, 1, 1, 1, 1, 1, 32849, 0, 0, 35876, 35877, 0, 0, 0, 0, 0, 2788, 3, 0, 0, 2, 2, 0, 0, 44606, 0, 0, 432, 0, 2, 2, 2, 0, 0, 0, 3, 3, 747, 18260, 3, 747, 747, 747, 3, 0, 0, 0, 0, 0, 0, 0, 15021, 25890, 5303, 5305, 0, 0, 0, 14855, 29706, 10006, 10006, 10006, 29177, 45254, 10006, 45254, 17228, 0, 0, 45254, 31386, 31387, 31386, 746, 1, 1, 0, 0, 0, 0, 1, 0, 0, 0, 0, 0, 0, 0, 0, 0, 0, 0, 0, 0, 44318, 0, 0, 0, 0, 0, 0, 1, 0, 0, 0, 1, 25314, 0, 0, 20923, 14853, 14853, 1, 8998, 9670, 0, 3, 0, 0, 0, 0, 0, 0, 0, 0, 42687, 41006, 0, 0, 0, 43934, 0, 0, 1, 0, 14372, 14372, 37023, 14372, 1, 2, 1, 1, 2, 32850, 5112, 32850, 32849, 14372, 32849, 32849, 32849, 32849, 32849, 41006, 23443, 0, 24594, 24594, 24594, 24594, 24594, 24594, 24594, 0, 0, 0, 745, 745, 746, 745, 17805, 17804, 2519, 744, 744, 744, 744, 26635, 26635, 26803, 26635, 0, 0, 39975, 0, 0, 17061, 1, 0, 0, 0, 0, 0, 1, 0, 1, 0, 0, 2, 1, 0, 0, 0, 1, 1, 17733, 17732, 17732, 41752, 1, 744, 744, 744, 744, 1, 1, 0, 5304, 5303, 5303, 39400, 1, 1, 7822, 7823, 2, 1, 1, 1, 0, 0, 29181, 5304, 5305, 2, 0, 0, 0, 0, 6, 41006, 41006, 1, 1, 0, 0, 0, 0, 10898, 43670, 45254, 45254, 0, 0, 0, 1, 1, 1, 0, 0, 0, 0, 0, 1, 1, 0, 2, 1, 4, 4, 3, 4, 0, 1, 1, 1, 1, 0, 0, 0, 0, 0, 0, 0, 0, 22628, 22628, 0, 1, 0, 0, 45614, 0, 0, 0, 2, 1, 45613, 44270, 44270, 1, 0, 0, 0, 2, 2, 33689, 32204, 37218, 37218, 33523, 0, 0, 1, 1, 0, 0, 4, 3, 46550, 0, 0, 2, 43934, 0, 0, 0, 0, 0, 1, 0, 3, 0, 1, 2, 0, 0, 31169, 0, 31170, 0, 0, 1, 0, 2, 1, 0, 1, 20420, 0, 0, 20420, 1, 1, 0, 0, 0, 1, 45997, 24451, 25315, 1, 0, 0, 0, 1, 2, 2, 2, 1, 8015, 8015, 18044, 18045, 1, 3, 3, 0, 0, 0, 0, 0, 24955, 24955, 29179, 3, 0, 39403, 40575, 40575, 33353, 1, 1, 2, 14855, 32205, 33691, 33690, 32205, 2, 0, 0, 1, 1777, 1777, 1, 15717, 15717, 15718, 15717, 44270, 44271, 15717, 15717, 44271, 44271, 37551, 0, 0, 7510, 46789, 46789, 46790, 46790, 46789, 0, 0]]\n",
      "141 ['CALLAHA_WND1', [26634, 1, 1, 1, 745, 745]]\n",
      "142 ['SAN_SANMIGG1', [1, 0, 12406, 1, 0, 0, 0, 0, 0, 0, 46477, 744, 0, 0, 0, 0, 0, 1, 29177, 29177, 1, 1, 1, 0, 0, 40695, 0, 0, 42855, 0, 0, 2, 3, 1, 0, 0, 0, 1, 0, 0, 0, 0, 0, 744, 744, 744, 0, 0, 0, 0, 0, 0, 0, 0, 0, 0, 0, 0, 0, 0, 36544, 1, 0, 0, 4, 0, 744, 744, 744, 744, 744, 29705, 744, 744, 744, 0, 0, 1, 0, 0, 1, 1, 0, 1, 0, 39570, 39567, 46789, 46789, 5304, 5304, 0, 0, 0, 0, 0, 0, 0, 0, 0, 31960, 2, 31961, 31961, 3]]\n",
      "143 ['GUADG_GAS4', [3, 0, 744, 744, 0, 0, 0, 0, 0, 0, 0, 0]]\n",
      "144 ['GUADG_GAS2', [0, 0, 744, 744, 0, 0, 0, 0, 0, 0, 0, 0]]\n",
      "145 ['GUADG_GAS3', [0, 0, 744, 744, 0, 0, 0, 0, 0, 0, 0, 0]]\n",
      "146 ['LZ_RAYBN', [0, 0, 0, 0, 0, 0, 0, 15262, 15262, 15262, 15262, 1, 1, 0, 0, 0, 0, 0, 1, 3, 0, 0, 0, 0, 0, 0, 0]]\n",
      "147 ['LOS_LOSTPST1', [2, 2, 0, 45350, 17516, 17515, 1, 0, 744, 745, 0, 1, 2, 0, 0, 0]]\n",
      "148 ['SIL_SILAS_10', [22627, 0, 0, 1104, 1]]\n",
      "149 ['SIL_SILAS_9', [0, 0, 0, 1104, 1]]\n",
      "150 ['KING_KINGSE', [0, 3, 3, 0, 0, 2, 2, 0, 0, 44606, 0, 0, 432, 0, 2, 2, 2, 0, 0, 0, 3, 3, 747, 18260, 3, 747, 747, 747, 3, 0, 0, 0, 0, 0, 0, 0, 23443, 4, 4, 3]]\n",
      "151 ['SIL_SILAS_6', [4, 1, 0, 1104, 1]]\n",
      "152 ['SIL_SILAS_5', [0, 1104, 0, 1104, 1]]\n",
      "153 ['GUADG_STM6', [0, 0, 744, 744, 0, 0, 0, 0, 0, 0, 0, 0]]\n",
      "154 ['AMO_AMOCO_G3', [0, 0, 0, 0, 0, 0, 0, 0, 1]]\n",
      "155 ['AMO_AMOCO_G2', [0, 0, 0, 0, 0, 0, 0, 0, 1]]\n",
      "156 ['AMO_AMOCO_G1', [0, 0, 0, 0, 0, 0, 0, 0, 1]]\n",
      "157 ['B_DAVIS_4', [0, 0, 0, 744, 744, 744, 25338, 744, 0, 0, 0, 0, 0, 0, 1]]\n",
      "158 ['B_DAVIS_3', [2, 0, 0, 744, 744, 744, 25338, 744, 0, 0, 0, 0, 0, 0, 1]]\n",
      "159 ['TXCTY_ST', [2, 0, 0, 1, 0, 0, 0]]\n",
      "160 ['RIONOG_CT1', [0, 1, 744, 745, 1, 1, 1]]\n",
      "161 ['LNCRK_G83', [1, 3, 747, 3, 3, 3, 747, 748, 747, 747, 3, 3, 3]]\n",
      "162 ['WOO_WOODWRD1', [3, 4, 0, 1, 1, 1, 0, 0, 0, 0, 0, 0, 0, 0, 0, 0, 0, 0, 22770, 0, 0, 0, 2, 0, 1, 5302, 5302, 5302, 0, 748, 748, 36785, 36785, 11185, 11185, 2, 0, 4]]\n",
      "163 ['WOO_WOODWRD2', [4, 4, 0, 1, 1, 1, 0, 0, 0, 0, 0, 0, 0, 0, 0, 0, 0, 0, 22770, 0, 0, 0, 2, 0, 1, 5302, 5302, 5302, 0, 748, 748, 36785, 36785, 11185, 11185, 2, 0, 4]]\n",
      "164 ['SCLP_SCLPC_4', [4, 6, 6, 6, 0]]\n",
      "165 ['SCLP_SCLPC_3', [6, 0, 6, 6, 0]]\n",
      "166 ['SCLP_SCLPC_2', [6, 6, 6, 6, 0]]\n",
      "167 ['SCLP_SCLPC_1', [6, 6, 6, 6, 0]]\n",
      "168 ['DDPEC_ST1', [6, 0, 2, 2, 2, 2, 2, 2, 2, 26635, 1, 1, 26634]]\n",
      "169 ['WAP_WAP_G3', [0, 2, 1, 2, 2]]\n",
      "170 ['WAP_WAP_G2', [3, 1, 1, 2, 2]]\n",
      "171 ['WAP_WAP_G5', [3, 3, 1, 2, 2]]\n",
      "172 ['WAP_WAP_G4', [3, 2, 1, 2, 2]]\n",
      "173 ['LPCCS_CT11', [3, 0, 1, 0, 0, 0, 744, 745, 0, 0, 0, 1, 1]]\n",
      "174 ['LPCCS_CT12', [0, 0, 1, 0, 0, 0, 744, 745, 0, 0, 0, 1, 1]]\n",
      "175 ['CALAVER_JKS2', [0, 0, 0, 0, 0, 1, 1, 1, 0, 0, 744, 744, 744, 744, 745, 745, 744, 744, 744, 745, 745, 744, 744, 744, 744, 0, 0, 0, 0, 0, 0, 1]]\n",
      "176 ['CALAVER_JKS1', [0, 0, 0, 0, 0, 1, 1, 1, 0, 0, 744, 744, 744, 744, 745, 745, 744, 744, 744, 745, 745, 744, 744, 744, 744, 0, 0, 0, 0, 0, 0, 1]]\n",
      "177 ['RAYB_G78910', [0, 0, 10366, 22628, 22628, 34672, 10846, 1, 0, 1, 744, 744, 744, 744, 744, 0, 744, 744, 744, 0, 0, 0, 11349, 0, 0, 0, 0, 0, 0, 0, 34672, 0, 0, 0, 1]]\n",
      "178 ['TKWSW_CHAMP', [0, 2, 5303, 1, 5303, 1, 5303, 5303, 5303, 5303, 5304, 2, 2, 5112, 5112, 2, 2, 1]]\n",
      "179 ['CCEC_ST1', [1, 1, 18957, 18957, 4343, 4344, 2, 3, 1, 2, 2, 1, 2, 0]]\n"
     ]
    }
   ],
   "source": [
    "zeroes = []\n",
    "index = 0\n",
    "open('neighbor_zeroes.csv', 'w').close()\n",
    "for g in fiver:\n",
    "    group = []\n",
    "    for n in g:\n",
    "        q = ercot.query_prices(n,'2011-01-01', '2016-5-23').as_matrix()\n",
    "        group.append(find_zeroes(q))\n",
    "    zeroes.append(group)\n",
    "    temp = [fiver[index][0], zeroes[index]]\n",
    "    with open('neighbor_zeroes.csv', 'ab') as resultFile:\n",
    "        wr = csv.writer(resultFile, dialect='excel')\n",
    "        wr.writerow(temp)\n",
    "    print str(index) + ' ' + str(temp)\n",
    "    index += 1"
   ]
  },
  {
   "cell_type": "code",
   "execution_count": null,
   "metadata": {},
   "outputs": [],
   "source": []
  }
 ],
 "metadata": {
  "kernelspec": {
   "display_name": "Python 2",
   "language": "python",
   "name": "python2"
  },
  "language_info": {
   "codemirror_mode": {
    "name": "ipython",
    "version": 2
   },
   "file_extension": ".py",
   "mimetype": "text/x-python",
   "name": "python",
   "nbconvert_exporter": "python",
   "pygments_lexer": "ipython2",
   "version": "2.7.13"
  }
 },
 "nbformat": 4,
 "nbformat_minor": 2
}
