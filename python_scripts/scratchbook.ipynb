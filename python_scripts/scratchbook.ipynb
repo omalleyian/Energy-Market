{
 "cells": [
  {
   "cell_type": "code",
   "execution_count": 227,
   "metadata": {},
   "outputs": [],
   "source": [
    "#-------------------------\n",
    "# Libs\n",
    "#-------------------------\n",
    " \n",
    "# External libs\n",
    "# %matplotlib qt         Fuck this line right here.\n",
    "import pymysql.cursors\n",
    "import os, sys\n",
    "import numpy as np\n",
    "import pandas as pd\n",
    "import matplotlib.pyplot as plt\n",
    "from sklearn import datasets, linear_model\n",
    "from sklearn.neural_network import MLPRegressor as mlp\n",
    "sys.path.append(\"/home/omalleyian/Documents/energy_market_project/scripts\")\n",
    "from ercot_data_interface import ercot_data_interface\n",
    "from ARIMA import ARIMA"
   ]
  },
  {
   "cell_type": "code",
   "execution_count": 48,
   "metadata": {
    "collapsed": true
   },
   "outputs": [],
   "source": [
    "#-------------------------\n",
    "# SQL environments\n",
    "#-------------------------\n",
    " \n",
    "HOST = \"localhost\"\n",
    "USER = \"root\" \n",
    "PASSWORD = \"Is79t5Is79t5\"\n",
    "DB = \"ercot_data\"\n",
    "\n",
    "#-------------------------\n",
    "# Functions\n",
    "#-------------------------\n",
    "\"\"\"\n",
    "Make a connection to MySQL\n",
    "Execute the MySQL query and return the resutls\n",
    "\"\"\"\n",
    "\n",
    "def execute_dict_query(query):\n",
    "    connection = pymysql.connect(host=HOST, \n",
    "                                 user=USER, \n",
    "                                 password=PASSWORD, \n",
    "                                 db=DB, \n",
    "                                 port=3306,\n",
    "                                 cursorclass=pymysql.cursors.DictCursor)\n",
    "    \n",
    "    try:\n",
    "        with connection.cursor() as cursor:\n",
    "            # Create a new record\n",
    "            cursor.execute(query)\n",
    "            result = cursor.fetchall()\n",
    "            return result\n",
    "    finally:\n",
    "        connection.close()\n",
    "\n",
    " \n"
   ]
  },
  {
   "cell_type": "code",
   "execution_count": null,
   "metadata": {
    "collapsed": true
   },
   "outputs": [],
   "source": []
  },
  {
   "cell_type": "code",
   "execution_count": 3,
   "metadata": {
    "collapsed": true
   },
   "outputs": [],
   "source": [
    "# Query data sorted by date and hour. SLOW!\n",
    "result_dict = execute_dict_query('select * from DAM_LMP0  \\\n",
    "                                where delivery_date < \"2016-12-31\" \\\n",
    "                                and delivery_date > \"2011-01-01\" \\\n",
    "                                order by delivery_date, hour_ending')"
   ]
  },
  {
   "cell_type": "code",
   "execution_count": 4,
   "metadata": {},
   "outputs": [
    {
     "data": {
      "text/plain": [
       "[<matplotlib.lines.Line2D at 0x7f1aec1d7f50>]"
      ]
     },
     "execution_count": 4,
     "metadata": {},
     "output_type": "execute_result"
    }
   ],
   "source": [
    "#Extract some data\n",
    "prices1 = [i['n0001VICTOR'] for i in result_dict]\n",
    "prices2 = [i['n0001'] for i in result_dict]\n",
    "hours = [i['hour_ending'].total_seconds() for i in result_dict]\n",
    "dates = [i['delivery_date'] for i in result_dict]\n",
    "plt.plot(prices1)\n",
    "plt.plot(prices2)\n",
    "# plt.show()"
   ]
  },
  {
   "cell_type": "code",
   "execution_count": 5,
   "metadata": {
    "collapsed": true
   },
   "outputs": [],
   "source": [
    "# Percent Change\n",
    "k = 24\n",
    "p_t = np.array(prices1[k:])\n",
    "p_tk = np.array(prices1[:-k])\n",
    "v = np.log10(p_t) - np.log10(p_tk)\n",
    "plt.plot(v)\n",
    "# plt.show()\n",
    "\n",
    "# MAPE = mean( (actual - forcast) / actual)\n",
    "\n",
    "MAPE = np.mean(np.square(p_t-p_tk)/p_t)"
   ]
  },
  {
   "cell_type": "code",
   "execution_count": 6,
   "metadata": {},
   "outputs": [
    {
     "data": {
      "text/plain": [
       "<matplotlib.legend.Legend at 0x7f1980a25c10>"
      ]
     },
     "execution_count": 6,
     "metadata": {},
     "output_type": "execute_result"
    }
   ],
   "source": [
    "# Basic data plot\n",
    "price1 = [float(i['AMNCOWD_8']) for i in result_dict]\n",
    "price2 = [float(i['AZLES_K']) for i in result_dict]\n",
    "price3 = [float(i['n0001']) for i in result_dict]\n",
    "\n",
    "plt.plot(price1, label='1')\n",
    "plt.plot(price2, label='2')\n",
    "plt.plot(price3, label='2')\n",
    "plt.legend()\n",
    "# plt.show()\n"
   ]
  },
  {
   "cell_type": "code",
   "execution_count": 7,
   "metadata": {},
   "outputs": [
    {
     "data": {
      "image/png": "[encoded data removed]",
      "text/plain": [
       "<matplotlib.figure.Figure at 0x7f1ab634ced0>"
      ]
     },
     "metadata": {},
     "output_type": "display_data"
    }
   ],
   "source": [
    "# Histogram\n",
    "plt.hist(price1, 500)\n",
    "plt.show()"
   ]
  },
  {
   "cell_type": "code",
   "execution_count": 8,
   "metadata": {},
   "outputs": [
    {
     "data": {
      "image/png": "[encoded data removed]",
      "text/plain": [
       "<matplotlib.figure.Figure at 0x7f198031cf50>"
      ]
     },
     "metadata": {},
     "output_type": "display_data"
    }
   ],
   "source": [
    "# Autocorrelation\n",
    "plt.acorr(price1, maxlags=72)\n",
    "plt.show()"
   ]
  },
  {
   "cell_type": "code",
   "execution_count": 9,
   "metadata": {},
   "outputs": [
    {
     "data": {
      "text/plain": [
       "42.479072428819229"
      ]
     },
     "execution_count": 9,
     "metadata": {},
     "output_type": "execute_result"
    }
   ],
   "source": [
    "np.mean(price1)"
   ]
  },
  {
   "cell_type": "code",
   "execution_count": 10,
   "metadata": {},
   "outputs": [
    {
     "name": "stdout",
     "output_type": "stream",
     "text": [
      "[ 27.76918254  26.23065003  25.4826624  ...,  22.29701492  19.54565128\n",
      "  17.51651262]\n"
     ]
    },
    {
     "data": {
      "text/plain": [
       "[<matplotlib.lines.Line2D at 0x7f197fdb7c10>,\n",
       " <matplotlib.lines.Line2D at 0x7f197fdb7d10>,\n",
       " <matplotlib.lines.Line2D at 0x7f197fdb7e10>,\n",
       " <matplotlib.lines.Line2D at 0x7f197fdb7f10>,\n",
       " <matplotlib.lines.Line2D at 0x7f197fdcd050>,\n",
       " <matplotlib.lines.Line2D at 0x7f197fdcd150>]"
      ]
     },
     "execution_count": 10,
     "metadata": {},
     "output_type": "execute_result"
    }
   ],
   "source": [
    "#extend this to get prices at different lags e.g. k-1, k-2, k-3\n",
    "max_lag = 168\n",
    "p_t = prices1[max_lag:]\n",
    "X = []\n",
    "for k in np.arange(0, max_lag, 24):\n",
    "    t_k = np.array(prices1[(max_lag-k):-k], dtype='float')\n",
    "    X.append(t_k)\n",
    "X = np.swapaxes(np.array(X[1:]), 0, 1)\n",
    "Y = [float(i) for i in p_t]\n",
    "# use sklearn.LinearRegression to fit (X, Y)\n",
    "\n",
    "regr = linear_model.LinearRegression()\n",
    "regr.fit(X,Y)\n",
    "\n",
    "print regr.predict(X)\n",
    "plt.plot(X)\n",
    "# plt.show()\n"
   ]
  },
  {
   "cell_type": "code",
   "execution_count": 11,
   "metadata": {},
   "outputs": [
    {
     "name": "stdout",
     "output_type": "stream",
     "text": [
      "29.52041666666666666666666667\n"
     ]
    }
   ],
   "source": [
    "# Mean Model\n",
    "# Given list X and time t\n",
    "# Return mean of X from 0 to t\n",
    "\n",
    "def mean_model(X, t):\n",
    "    return np.mean(X[:t])\n",
    "\n",
    "training = prices1[:-24]\n",
    "test = prices1[-24:]\n",
    "\n",
    "#MAPE  = np.mean()\n",
    "\n",
    "print mean_model(training, 24)\n",
    "\n"
   ]
  },
  {
   "cell_type": "code",
   "execution_count": 12,
   "metadata": {},
   "outputs": [
    {
     "name": "stdout",
     "output_type": "stream",
     "text": [
      "30.14\n"
     ]
    }
   ],
   "source": [
    "# Random Walk Model\n",
    "# Given list X and time t\n",
    "# Return element of X at time t-1\n",
    "\n",
    "def random_walk(X, t):\n",
    "    return X[t-1]\n",
    "\n",
    "print random_walk(prices1, 24)"
   ]
  },
  {
   "cell_type": "code",
   "execution_count": 13,
   "metadata": {},
   "outputs": [
    {
     "name": "stdout",
     "output_type": "stream",
     "text": [
      "29.52041666666666666666666667\n"
     ]
    }
   ],
   "source": [
    "# Moving Average Model\n",
    "# Given a list X, time t, and m number of observations\n",
    "# Return the value of Y at time t of the previous m elements in X.\n",
    "\n",
    "def moving_average(X, t, m):\n",
    "    s = sum(X[(t-m):t])\n",
    "    avg = s/m\n",
    "    return avg\n",
    "\n",
    "print moving_average(prices1, 24, 24)\n",
    "    \n",
    "    "
   ]
  },
  {
   "cell_type": "code",
   "execution_count": 14,
   "metadata": {
    "collapsed": true
   },
   "outputs": [],
   "source": [
    "\n",
    "ercot = ercot_data_interface(password=\"Is79t5Is79t5\")\n",
    "nodes_crr = ercot.get_CRR_nodes()\n",
    "nodes_all = ercot.all_nodes\n",
    "nodes_source = ercot.get_sources_sinks()\n",
    "df_2011 = ercot.query_prices(nodes_all[0], \"2011-01-01\",\"2011-12-31\")\n",
    "df_2012 = ercot.query_prices(nodes_all[0], \"2012-01-01\",\"2012-12-31\")\n",
    "matrix_2011 = df_2011.as_matrix()\n",
    "matrix_2012 = df_2012.as_matrix()"
   ]
  },
  {
   "cell_type": "code",
   "execution_count": 15,
   "metadata": {},
   "outputs": [
    {
     "data": {
      "image/png": "[encoded data removed]",
      "text/plain": [
       "<matplotlib.figure.Figure at 0x7f1aec196210>"
      ]
     },
     "metadata": {},
     "output_type": "display_data"
    },
    {
     "name": "stdout",
     "output_type": "stream",
     "text": [
      "5.15112524169\n"
     ]
    }
   ],
   "source": [
    "arima = ARIMA(p = 2, d = 0, q = 0, seasonal = 24)\n",
    "arima.fit(matrix_2011)\n",
    "arima.plot_predicted_vs_actual(matrix_2012)\n",
    "print arima.mae(matrix_2012)"
   ]
  },
  {
   "cell_type": "code",
   "execution_count": 55,
   "metadata": {},
   "outputs": [
    {
     "name": "stdout",
     "output_type": "stream",
     "text": [
      "46.2137045115\n"
     ]
    }
   ],
   "source": [
    "# Arima Forcasting\n",
    "\n",
    "# First split data into subsets offset by 24, and fit ARIMA models to these subsets.\n",
    "hours_2011 = []\n",
    "hours_2012 = []\n",
    "arima_models = []\n",
    "\n",
    "for i in range(24):\n",
    "    ind_2011 = np.arange(i,matrix_2011.shape[0],24)\n",
    "    ind_2012 = np.arange(i,matrix_2012.shape[0],24)\n",
    "    \n",
    "    hours_2011.append(matrix_2011[ind_2011])\n",
    "    hours_2012.append(matrix_2012[ind_2012])\n",
    "    \n",
    "    arima = ARIMA(p = 2, d = 0, q = 1, seasonal = 1)\n",
    "    arima.fit(matrix_2011[ind_2011])\n",
    "    arima_models.append(arima)\n",
    "    \n",
    "print np.mean(matrix_2011)"
   ]
  },
  {
   "cell_type": "code",
   "execution_count": 44,
   "metadata": {},
   "outputs": [
    {
     "data": {
      "image/png": "[encoded data removed]",
      "text/plain": [
       "<matplotlib.figure.Figure at 0x7f197e4ec790>"
      ]
     },
     "metadata": {},
     "output_type": "display_data"
    }
   ],
   "source": [
    "# Make predictions with the ARIMA models\n",
    "# Merge the predictions into a single array to be ploted against actual data\n",
    "predictions = []\n",
    "merged_prediction = np.zeros(8640)\n",
    "for i in range(len(arima_models)):\n",
    "    prediction, actual = arima_models[i].predict(hours_2012[i])\n",
    "    prediction = prediction.squeeze().tolist()\n",
    "    \n",
    "    if len(prediction) < 360:\n",
    "        prediction.extend(np.zeros(1))\n",
    "    \n",
    "    for j in range(len(prediction)):\n",
    "        front = [0] * i\n",
    "        back = [0] * (23-i)\n",
    "        index = j * 24\n",
    "        prediction[index:index] = front\n",
    "        prediction[index+i+1:index+i+1] = back\n",
    "        \n",
    "    merged_prediction += prediction\n",
    "\n",
    "plt.plot(matrix_2012, label='actual')\n",
    "plt.plot(merged_prediction, label='prediction', alpha=0.5)\n",
    "plt.legend()\n",
    "plt.show()"
   ]
  },
  {
   "cell_type": "code",
   "execution_count": 145,
   "metadata": {},
   "outputs": [],
   "source": [
    "def mape(actual, forcast):\n",
    "    x = (np.asarray(actual)).flatten()\n",
    "    y = (np.asarray(forcast)).flatten()\n",
    "    return np.mean(np.square((x - y) / x))"
   ]
  },
  {
   "cell_type": "code",
   "execution_count": 148,
   "metadata": {
    "collapsed": true
   },
   "outputs": [],
   "source": [
    "def mae(actual, forcast):\n",
    "    x = (np.asarray(actual)).flatten()\n",
    "    y = (np.asarray(forcast)).flatten()\n",
    "    return np.mean((x - y))"
   ]
  },
  {
   "cell_type": "code",
   "execution_count": 250,
   "metadata": {},
   "outputs": [
    {
     "name": "stdout",
     "output_type": "stream",
     "text": [
      "MAE Calculation on Node0: n0001\n",
      "13.985013189\n",
      "0.00122059831012\n",
      "6.01805819353\n",
      "5.39706807032\n",
      "5.40431546301\n",
      "4.64561583655\n",
      "3.87516181568\n",
      "3.90294122872\n",
      "\n",
      "\n",
      "MAE Calculation on Node1: n0001DUPV1_\n",
      "11.6668910237\n",
      "0.000968257593058\n",
      "6.29829840461\n",
      "5.69998459251\n",
      "5.68425432225\n",
      "4.60772457965\n",
      "3.83390918582\n",
      "3.87478070077\n",
      "\n",
      "\n",
      "MAE Calculation on Node2: n0001HWFG1\n",
      "10.5679988774\n",
      "0.000996802923042\n",
      "5.99649032169\n",
      "5.40740903601\n",
      "5.43120320197\n",
      "4.74642986664\n",
      "3.9821791535\n",
      "3.99743613373\n",
      "\n",
      "\n",
      "MAE Calculation on Node3: n0001VICTOR\n",
      "11.6383515389\n",
      "0.000968257593058\n",
      "6.28610132208\n",
      "5.68090241465\n",
      "5.66724372322\n",
      "4.5988533252\n",
      "3.8239151965\n",
      "3.86331488156\n",
      "\n",
      "\n",
      "MAE Calculation on Node4: n0001_C\n",
      "-16.0316525268\n",
      "0.00096369034026\n",
      "7.00844410661\n",
      "6.30533105504\n",
      "5.95605161231\n",
      "4.76691113955\n",
      "4.13372785248\n",
      "4.13585242456\n",
      "\n",
      "\n"
     ]
    }
   ],
   "source": [
    "# Calculate mape for various models on the first 5 nodes\n",
    "for i in range(5):\n",
    "    print \"MAE Calculation on Node\" + str(i) + \": \" + str(nodes_all[i])\n",
    "    # Load training and testing data from a node\n",
    "    df_train = ercot.query_prices(nodes_all[i], \"2011-01-01\",\"2015-05-23\")\n",
    "    df_test = ercot.query_prices(nodes_all[i], \"2015-05-23\",\"2016-05-23\")\n",
    "    matrix_train = df_train.as_matrix()\n",
    "    matrix_test = df_test.as_matrix()\n",
    "    \n",
    "    # Preform mean model calculations on data\n",
    "    m = np.mean(matrix_train)\n",
    "    m_matrix = [m] * len(matrix_test)\n",
    "    mae_mean = mae(m_matrix, matrix_test)\n",
    "#     print \"\\tMean Model: \" + str(mae_mean)\n",
    "    print mae_mean\n",
    "    \n",
    "    # Perform random walk model calculations on data\n",
    "    walk = matrix_test[:-1]\n",
    "    walk_test = matrix_test[1:]\n",
    "    mae_walk = mae(walk, walk_test)\n",
    "#     print \"\\tRandom Walk: \" + str(mae_walk)\n",
    "    print mae_walk\n",
    "    \n",
    "    # ARIMA(2,0,1,1)\n",
    "    arima = ARIMA(p = 2, d = 0, q = 1, seasonal = 1)\n",
    "    arima.fit(matrix_train)\n",
    "#     print \"\\tARIMA(2,0,1): \" + str(arima.mae(matrix_test))\n",
    "    print arima.mae(matrix_test)\n",
    "    \n",
    "    # ARIMA(2,0,2,1)\n",
    "    arima = ARIMA(p = 2, d = 0, q = 2, seasonal = 1)\n",
    "    arima.fit(matrix_train)\n",
    "#     print \"\\tARIMA(2,0,2): \" + str(arima.mae(matrix_test))\n",
    "    print arima.mae(matrix_test)\n",
    "    \n",
    "    # ARIMA(2,0,3,1)\n",
    "    arima = ARIMA(p = 2, d = 0, q = 3, seasonal = 1)\n",
    "    arima.fit(matrix_train)\n",
    "#     print \"\\tARIMA(2,0,3): \" + str(arima.mae(matrix_test))\n",
    "    print arima.mae(matrix_test)\n",
    "    \n",
    "    # ARIMA(2,0,1,24)\n",
    "    arima = ARIMA(p = 2, d = 0, q = 1, seasonal = 24)\n",
    "    arima.fit(matrix_train)\n",
    "#     print \"\\tARIMA(2,0,3): \" + str(arima.mae(matrix_test))\n",
    "    print arima.mae(matrix_test)\n",
    "    \n",
    "    # ARIMA(2,0,2,24)\n",
    "    arima = ARIMA(p = 2, d = 0, q = 2, seasonal = 24)\n",
    "    arima.fit(matrix_train)\n",
    "#     print \"\\tARIMA(2,0,3): \" + str(arima.mae(matrix_test))\n",
    "    print arima.mae(matrix_test)\n",
    "    \n",
    "    # ARIMA(2,0,3,24)\n",
    "    arima = ARIMA(p = 2, d = 0, q = 3, seasonal = 24)\n",
    "    arima.fit(matrix_train)\n",
    "#     print \"\\tARIMA(2,0,3): \" + str(arima.mae(matrix_test))\n",
    "    print arima.mae(matrix_test)\n",
    "    \n",
    "    print \"\\n\""
   ]
  },
  {
   "cell_type": "code",
   "execution_count": 158,
   "metadata": {},
   "outputs": [],
   "source": [
    "df_train = ercot.query_prices(nodes_all[0], \"2011-01-01\",\"2015-05-23\")\n",
    "df_test = ercot.query_prices(nodes_all[0], \"2015-05-23\",\"2016-05-23\")\n",
    "matrix_train = df_train.as_matrix()\n",
    "matrix_test = df_test.as_matrix()"
   ]
  },
  {
   "cell_type": "code",
   "execution_count": 252,
   "metadata": {},
   "outputs": [
    {
     "name": "stdout",
     "output_type": "stream",
     "text": [
      "7.00844410661\n",
      "6.30533105504\n",
      "5.95605161231\n",
      "\n",
      "\n",
      "8.20796963168\n"
     ]
    },
    {
     "ename": "NameError",
     "evalue": "name 'plot_acf' is not defined",
     "output_type": "error",
     "traceback": [
      "\u001b[0;31m---------------------------------------------------------------------------\u001b[0m",
      "\u001b[0;31mNameError\u001b[0m                                 Traceback (most recent call last)",
      "\u001b[0;32m<ipython-input-252-23ce93e3a196>\u001b[0m in \u001b[0;36m<module>\u001b[0;34m()\u001b[0m\n\u001b[1;32m     14\u001b[0m \u001b[0;32mprint\u001b[0m \u001b[0mstr\u001b[0m\u001b[0;34m(\u001b[0m\u001b[0marima\u001b[0m\u001b[0;34m.\u001b[0m\u001b[0mmae\u001b[0m\u001b[0;34m(\u001b[0m\u001b[0mmatrix_test\u001b[0m\u001b[0;34m)\u001b[0m\u001b[0;34m)\u001b[0m\u001b[0;34m\u001b[0m\u001b[0m\n\u001b[1;32m     15\u001b[0m \u001b[0;34m\u001b[0m\u001b[0m\n\u001b[0;32m---> 16\u001b[0;31m \u001b[0mplot_acf\u001b[0m\u001b[0;34m(\u001b[0m\u001b[0mmatrix_test\u001b[0m\u001b[0;34m)\u001b[0m\u001b[0;34m\u001b[0m\u001b[0m\n\u001b[0m",
      "\u001b[0;31mNameError\u001b[0m: name 'plot_acf' is not defined"
     ]
    }
   ],
   "source": [
    "arima = ARIMA(p = 2, d = 0, q = 1, seasonal = 1)\n",
    "arima.fit(matrix_train)\n",
    "print str(arima.mae(matrix_test))\n",
    "arima = ARIMA(p = 2, d = 0, q = 2, seasonal = 1)\n",
    "arima.fit(matrix_train)\n",
    "print str(arima.mae(matrix_test))\n",
    "arima = ARIMA(p = 2, d = 0, q = 3, seasonal = 1)\n",
    "arima.fit(matrix_train)\n",
    "print str(arima.mae(matrix_test))\n",
    "print \"\\n\"\n",
    "\n",
    "arima = ARIMA(p = 2, d = 0, q = 3, seasonal = 20)\n",
    "arima.fit(matrix_train)\n",
    "print str(arima.mae(matrix_test))\n",
    "\n",
    "plot_acf(matrix_test)"
   ]
  },
  {
   "cell_type": "code",
   "execution_count": 141,
   "metadata": {},
   "outputs": [],
   "source": [
    "# # The Arima Prediction method drops 4 elements of the input list\n",
    "# arima = ARIMA(p = 2, d = 0, q = 1, seasonal = 1)\n",
    "# arima.fit(matrix_train)\n",
    "# p, a = arima.predict(matrix_test)\n",
    "# mape_arima = mape(p, matrix_test)"
   ]
  }
 ],
 "metadata": {
  "kernelspec": {
   "display_name": "Python 2",
   "language": "python",
   "name": "python2"
  },
  "language_info": {
   "codemirror_mode": {
    "name": "ipython",
    "version": 2
   },
   "file_extension": ".py",
   "mimetype": "text/x-python",
   "name": "python",
   "nbconvert_exporter": "python",
   "pygments_lexer": "ipython2",
   "version": "2.7.13"
  }
 },
 "nbformat": 4,
 "nbformat_minor": 2
}
